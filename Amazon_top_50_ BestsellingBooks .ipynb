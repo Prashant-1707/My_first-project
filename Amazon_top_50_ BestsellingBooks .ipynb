{
 "cells": [
  {
   "cell_type": "code",
   "execution_count": 320,
   "id": "88d09775",
   "metadata": {},
   "outputs": [],
   "source": [
    "import pandas as pd \n",
    "import numpy as np \n",
    "from matplotlib import pyplot as plt \n",
    "import seaborn as sns "
   ]
  },
  {
   "cell_type": "markdown",
   "id": "19caedb3",
   "metadata": {},
   "source": [
    "# 1. Rating Analysis:"
   ]
  },
  {
   "cell_type": "code",
   "execution_count": 397,
   "id": "59abd887",
   "metadata": {},
   "outputs": [],
   "source": [
    "# What is the average user rating across all books?\n",
    "\n",
    "average_rating = database['User Rating'].mean()"
   ]
  },
  {
   "cell_type": "code",
   "execution_count": 408,
   "id": "2950b97a",
   "metadata": {},
   "outputs": [
    {
     "name": "stdout",
     "output_type": "stream",
     "text": [
      "the average book rating across all the books is: 4.618363636363637\n"
     ]
    }
   ],
   "source": [
    "print('the average book rating across all the books is:',average_rating)"
   ]
  },
  {
   "cell_type": "code",
   "execution_count": 409,
   "id": "cd3e4a8c",
   "metadata": {},
   "outputs": [
    {
     "name": "stdout",
     "output_type": "stream",
     "text": [
      "                                                  Name                 Author  \\\n",
      "40            Brown Bear, Brown Bear, What Do You See?        Bill Martin Jr.   \n",
      "41            Brown Bear, Brown Bear, What Do You See?        Bill Martin Jr.   \n",
      "81   Dog Man and Cat Kid: From the Creator of Capta...             Dav Pilkey   \n",
      "82   Dog Man: A Tale of Two Kitties: From the Creat...             Dav Pilkey   \n",
      "83   Dog Man: Brawl of the Wild: From the Creator o...             Dav Pilkey   \n",
      "84   Dog Man: Brawl of the Wild: From the Creator o...             Dav Pilkey   \n",
      "85   Dog Man: Fetch-22: From the Creator of Captain...             Dav Pilkey   \n",
      "86   Dog Man: For Whom the Ball Rolls: From the Cre...             Dav Pilkey   \n",
      "87   Dog Man: Lord of the Fleas: From the Creator o...             Dav Pilkey   \n",
      "146  Goodnight, Goodnight Construction Site (Hardco...   Sherri Duskey Rinker   \n",
      "147  Goodnight, Goodnight Construction Site (Hardco...   Sherri Duskey Rinker   \n",
      "151                           Hamilton: The Revolution     Lin-Manuel Miranda   \n",
      "153  Harry Potter and the Chamber of Secrets: The I...           J.K. Rowling   \n",
      "155  Harry Potter and the Goblet of Fire: The Illus...          J. K. Rowling   \n",
      "156  Harry Potter and the Prisoner of Azkaban: The ...           J.K. Rowling   \n",
      "157  Harry Potter and the Sorcerer's Stone: The Ill...           J.K. Rowling   \n",
      "174                       Humans of New York : Stories        Brandon Stanton   \n",
      "187  Jesus Calling: Enjoying Peace in His Presence ...            Sarah Young   \n",
      "188  Jesus Calling: Enjoying Peace in His Presence ...            Sarah Young   \n",
      "189  Jesus Calling: Enjoying Peace in His Presence ...            Sarah Young   \n",
      "190  Jesus Calling: Enjoying Peace in His Presence ...            Sarah Young   \n",
      "191  Jesus Calling: Enjoying Peace in His Presence ...            Sarah Young   \n",
      "192  Jesus Calling: Enjoying Peace in His Presence ...            Sarah Young   \n",
      "207  Last Week Tonight with John Oliver Presents A ...             Jill Twiss   \n",
      "219                                  Little Blue Truck         Alice Schertle   \n",
      "244                        Obama: An Intimate Portrait             Pete Souza   \n",
      "245                          Oh, the Places You'll Go!              Dr. Seuss   \n",
      "246                          Oh, the Places You'll Go!              Dr. Seuss   \n",
      "247                          Oh, the Places You'll Go!              Dr. Seuss   \n",
      "248                          Oh, the Places You'll Go!              Dr. Seuss   \n",
      "249                          Oh, the Places You'll Go!              Dr. Seuss   \n",
      "250                          Oh, the Places You'll Go!              Dr. Seuss   \n",
      "251                          Oh, the Places You'll Go!              Dr. Seuss   \n",
      "252                          Oh, the Places You'll Go!              Dr. Seuss   \n",
      "288  Rush Revere and the Brave Pilgrims: Time-Trave...          Rush Limbaugh   \n",
      "289  Rush Revere and the First Patriots: Time-Trave...          Rush Limbaugh   \n",
      "303             Strange Planet (Strange Planet Series)         Nathan W. Pyle   \n",
      "420               The Legend of Zelda: Hyrule Historia         Patrick Thorpe   \n",
      "431                                 The Magnolia Story            Chip Gaines   \n",
      "476                        The Very Hungry Caterpillar             Eric Carle   \n",
      "477                        The Very Hungry Caterpillar             Eric Carle   \n",
      "478                        The Very Hungry Caterpillar             Eric Carle   \n",
      "479                        The Very Hungry Caterpillar             Eric Carle   \n",
      "480                        The Very Hungry Caterpillar             Eric Carle   \n",
      "481                        The Very Hungry Caterpillar             Eric Carle   \n",
      "482                        The Very Hungry Caterpillar             Eric Carle   \n",
      "486                   The Wonderful Things You Will Be  Emily Winfield Martin   \n",
      "487                   The Wonderful Things You Will Be  Emily Winfield Martin   \n",
      "488                   The Wonderful Things You Will Be  Emily Winfield Martin   \n",
      "489                   The Wonderful Things You Will Be  Emily Winfield Martin   \n",
      "521                             Unfreedom of the Press          Mark R. Levin   \n",
      "545       Wrecking Ball (Diary of a Wimpy Kid Book 14)            Jeff Kinney   \n",
      "\n",
      "     User Rating  Reviews  Price  Year        Genre  \n",
      "40           4.9    14344      5  2017      Fiction  \n",
      "41           4.9    14344      5  2019      Fiction  \n",
      "81           4.9     5062      6  2018      Fiction  \n",
      "82           4.9     4786      8  2017      Fiction  \n",
      "83           4.9     7235      4  2018      Fiction  \n",
      "84           4.9     7235      4  2019      Fiction  \n",
      "85           4.9    12619      8  2019      Fiction  \n",
      "86           4.9     9089      8  2019      Fiction  \n",
      "87           4.9     5470      6  2018      Fiction  \n",
      "146          4.9     7038      7  2012      Fiction  \n",
      "147          4.9     7038      7  2013      Fiction  \n",
      "151          4.9     5867     54  2016  Non Fiction  \n",
      "153          4.9    19622     30  2016      Fiction  \n",
      "155          4.9     7758     18  2019      Fiction  \n",
      "156          4.9     3146     30  2017      Fiction  \n",
      "157          4.9    10052     22  2016      Fiction  \n",
      "174          4.9     2812     17  2015  Non Fiction  \n",
      "187          4.9    19576      8  2011  Non Fiction  \n",
      "188          4.9    19576      8  2012  Non Fiction  \n",
      "189          4.9    19576      8  2013  Non Fiction  \n",
      "190          4.9    19576      8  2014  Non Fiction  \n",
      "191          4.9    19576      8  2015  Non Fiction  \n",
      "192          4.9    19576      8  2016  Non Fiction  \n",
      "207          4.9    11881     13  2018      Fiction  \n",
      "219          4.9     1884      0  2014      Fiction  \n",
      "244          4.9     3192     22  2017  Non Fiction  \n",
      "245          4.9    21834      8  2012      Fiction  \n",
      "246          4.9    21834      8  2013      Fiction  \n",
      "247          4.9    21834      8  2014      Fiction  \n",
      "248          4.9    21834      8  2015      Fiction  \n",
      "249          4.9    21834      8  2016      Fiction  \n",
      "250          4.9    21834      8  2017      Fiction  \n",
      "251          4.9    21834      8  2018      Fiction  \n",
      "252          4.9    21834      8  2019      Fiction  \n",
      "288          4.9     7150     12  2013      Fiction  \n",
      "289          4.9     3836     12  2014      Fiction  \n",
      "303          4.9     9382      6  2019      Fiction  \n",
      "420          4.9     5396     20  2013      Fiction  \n",
      "431          4.9     7861      5  2016  Non Fiction  \n",
      "476          4.9    19546      5  2013      Fiction  \n",
      "477          4.9    19546      5  2014      Fiction  \n",
      "478          4.9    19546      5  2015      Fiction  \n",
      "479          4.9    19546      5  2016      Fiction  \n",
      "480          4.9    19546      5  2017      Fiction  \n",
      "481          4.9    19546      5  2018      Fiction  \n",
      "482          4.9    19546      5  2019      Fiction  \n",
      "486          4.9     8842     10  2016      Fiction  \n",
      "487          4.9     8842     10  2017      Fiction  \n",
      "488          4.9     8842     10  2018      Fiction  \n",
      "489          4.9     8842     10  2019      Fiction  \n",
      "521          4.9     5956     11  2019  Non Fiction  \n",
      "545          4.9     9413      8  2019      Fiction  \n"
     ]
    }
   ],
   "source": [
    "# Which books have the highest and lowest user ratings?\n",
    "\n",
    "highest_rated_books=database[database['User Rating']==database['User Rating'].max()]\n",
    "print(highest_rated_books)"
   ]
  },
  {
   "cell_type": "code",
   "execution_count": 412,
   "id": "f85fa7a6",
   "metadata": {},
   "outputs": [
    {
     "name": "stdout",
     "output_type": "stream",
     "text": [
      "Book(s) with the highest user rating:\n",
      "                   Name        Author  User Rating  Reviews  Price  Year  \\\n",
      "353  The Casual Vacancy  J.K. Rowling          3.3     9372     12  2012   \n",
      "\n",
      "       Genre  \n",
      "353  Fiction  \n"
     ]
    }
   ],
   "source": [
    "lowest_rated_books=database[database['User Rating']==database['User Rating'].min()]\n",
    "print(\"Book(s) with the highest user rating:\")\n",
    "print(lowest_rated_books)"
   ]
  },
  {
   "cell_type": "code",
   "execution_count": 421,
   "id": "c55b31d6",
   "metadata": {},
   "outputs": [
    {
     "data": {
      "image/png": "[encoded data removed]",
      "text/plain": [
       "<Figure size 640x480 with 1 Axes>"
      ]
     },
     "metadata": {},
     "output_type": "display_data"
    }
   ],
   "source": [
    "# Is there a relationship between the number of reviews and the user rating?\n",
    "\n",
    "sns.scatterplot(x='Reviews',y='User Rating',data=database)\n",
    "plt.title(\"Relationship between Reviews and User Rating\")\n",
    "plt.show()"
   ]
  },
  {
   "cell_type": "code",
   "execution_count": 415,
   "id": "a6cbb04e",
   "metadata": {},
   "outputs": [
    {
     "data": {
      "text/html": [
       "<div>\n",
       "<style scoped>\n",
       "    .dataframe tbody tr th:only-of-type {\n",
       "        vertical-align: middle;\n",
       "    }\n",
       "\n",
       "    .dataframe tbody tr th {\n",
       "        vertical-align: top;\n",
       "    }\n",
       "\n",
       "    .dataframe thead th {\n",
       "        text-align: right;\n",
       "    }\n",
       "</style>\n",
       "<table border=\"1\" class=\"dataframe\">\n",
       "  <thead>\n",
       "    <tr style=\"text-align: right;\">\n",
       "      <th></th>\n",
       "      <th>Reviews</th>\n",
       "      <th>User Rating</th>\n",
       "    </tr>\n",
       "  </thead>\n",
       "  <tbody>\n",
       "    <tr>\n",
       "      <th>Reviews</th>\n",
       "      <td>1.000000</td>\n",
       "      <td>-0.001729</td>\n",
       "    </tr>\n",
       "    <tr>\n",
       "      <th>User Rating</th>\n",
       "      <td>-0.001729</td>\n",
       "      <td>1.000000</td>\n",
       "    </tr>\n",
       "  </tbody>\n",
       "</table>\n",
       "</div>"
      ],
      "text/plain": [
       "              Reviews  User Rating\n",
       "Reviews      1.000000    -0.001729\n",
       "User Rating -0.001729     1.000000"
      ]
     },
     "execution_count": 415,
     "metadata": {},
     "output_type": "execute_result"
    }
   ],
   "source": [
    "database[['Reviews','User Rating']].corr() # there is no strong relationship b/w them"
   ]
  },
  {
   "cell_type": "code",
   "execution_count": null,
   "id": "b6c02e8a",
   "metadata": {},
   "outputs": [],
   "source": []
  },
  {
   "cell_type": "markdown",
   "id": "e054ab0a",
   "metadata": {},
   "source": [
    "# 2. Price and Sales Analysis:"
   ]
  },
  {
   "cell_type": "code",
   "execution_count": 488,
   "id": "3033016f",
   "metadata": {},
   "outputs": [
    {
     "name": "stdout",
     "output_type": "stream",
     "text": [
      "Average price of books in different genres are : Genre\n",
      "Fiction        10.850000\n",
      "Non Fiction    14.841935\n",
      "Name: Price, dtype: float64\n"
     ]
    }
   ],
   "source": [
    "#What is the average price of books in different genres (Fiction vs. Non Fiction)?\n",
    "\n",
    "Avearge_price_by_genre=database.groupby('Genre')['Price'].mean()\n",
    "print('Average price of books in different genres are :',Avearge_price_by_genre)"
   ]
  },
  {
   "cell_type": "code",
   "execution_count": 443,
   "id": "906543e1",
   "metadata": {},
   "outputs": [],
   "source": [
    "n= list(database.groupby('Genre')['Price'].mean().values)"
   ]
  },
  {
   "cell_type": "code",
   "execution_count": 444,
   "id": "6ee9d01b",
   "metadata": {},
   "outputs": [],
   "source": [
    "i = list(database.groupby('Genre')['Price'].mean().keys())"
   ]
  },
  {
   "cell_type": "code",
   "execution_count": 446,
   "id": "a3593852",
   "metadata": {},
   "outputs": [
    {
     "data": {
      "image/png": "[encoded data removed]",
      "text/plain": [
       "<Figure size 640x480 with 1 Axes>"
      ]
     },
     "metadata": {},
     "output_type": "display_data"
    }
   ],
   "source": [
    "sns.barplot(x=i,y=n)\n",
    "plt.title('Average price of books in different genres')\n",
    "plt.xlabel('Genre')\n",
    "plt.ylabel('Price')\n",
    "plt.show()"
   ]
  },
  {
   "cell_type": "code",
   "execution_count": 449,
   "id": "4a2ed634",
   "metadata": {},
   "outputs": [
    {
     "data": {
      "text/plain": [
       "<Axes: xlabel='Price', ylabel='User Rating'>"
      ]
     },
     "execution_count": 449,
     "metadata": {},
     "output_type": "execute_result"
    },
    {
     "data": {
      "image/png": "[encoded data removed]",
      "text/plain": [
       "<Figure size 640x480 with 1 Axes>"
      ]
     },
     "metadata": {},
     "output_type": "display_data"
    }
   ],
   "source": [
    "#Is there a relationship between the number of reviews and the user rating?\n",
    "sns.scatterplot(x='Price',y='User Rating',data=database)"
   ]
  },
  {
   "cell_type": "code",
   "execution_count": 453,
   "id": "c76c7ab7",
   "metadata": {},
   "outputs": [
    {
     "data": {
      "text/html": [
       "<div>\n",
       "<style scoped>\n",
       "    .dataframe tbody tr th:only-of-type {\n",
       "        vertical-align: middle;\n",
       "    }\n",
       "\n",
       "    .dataframe tbody tr th {\n",
       "        vertical-align: top;\n",
       "    }\n",
       "\n",
       "    .dataframe thead th {\n",
       "        text-align: right;\n",
       "    }\n",
       "</style>\n",
       "<table border=\"1\" class=\"dataframe\">\n",
       "  <thead>\n",
       "    <tr style=\"text-align: right;\">\n",
       "      <th></th>\n",
       "      <th>Price</th>\n",
       "      <th>User Rating</th>\n",
       "    </tr>\n",
       "  </thead>\n",
       "  <tbody>\n",
       "    <tr>\n",
       "      <th>Price</th>\n",
       "      <td>1.000000</td>\n",
       "      <td>-0.133086</td>\n",
       "    </tr>\n",
       "    <tr>\n",
       "      <th>User Rating</th>\n",
       "      <td>-0.133086</td>\n",
       "      <td>1.000000</td>\n",
       "    </tr>\n",
       "  </tbody>\n",
       "</table>\n",
       "</div>"
      ],
      "text/plain": [
       "                Price  User Rating\n",
       "Price        1.000000    -0.133086\n",
       "User Rating -0.133086     1.000000"
      ]
     },
     "execution_count": 453,
     "metadata": {},
     "output_type": "execute_result"
    }
   ],
   "source": [
    "database[['Price','User Rating']].corr()"
   ]
  },
  {
   "cell_type": "code",
   "execution_count": 454,
   "id": "19e46620",
   "metadata": {},
   "outputs": [
    {
     "data": {
      "text/html": [
       "<div>\n",
       "<style scoped>\n",
       "    .dataframe tbody tr th:only-of-type {\n",
       "        vertical-align: middle;\n",
       "    }\n",
       "\n",
       "    .dataframe tbody tr th {\n",
       "        vertical-align: top;\n",
       "    }\n",
       "\n",
       "    .dataframe thead th {\n",
       "        text-align: right;\n",
       "    }\n",
       "</style>\n",
       "<table border=\"1\" class=\"dataframe\">\n",
       "  <thead>\n",
       "    <tr style=\"text-align: right;\">\n",
       "      <th></th>\n",
       "      <th>Name</th>\n",
       "      <th>Author</th>\n",
       "      <th>User Rating</th>\n",
       "      <th>Reviews</th>\n",
       "      <th>Price</th>\n",
       "      <th>Year</th>\n",
       "      <th>Genre</th>\n",
       "    </tr>\n",
       "  </thead>\n",
       "  <tbody>\n",
       "    <tr>\n",
       "      <th>0</th>\n",
       "      <td>10-Day Green Smoothie Cleanse</td>\n",
       "      <td>JJ Smith</td>\n",
       "      <td>4.7</td>\n",
       "      <td>17350</td>\n",
       "      <td>8</td>\n",
       "      <td>2016</td>\n",
       "      <td>Non Fiction</td>\n",
       "    </tr>\n",
       "    <tr>\n",
       "      <th>1</th>\n",
       "      <td>11/22/63: A Novel</td>\n",
       "      <td>Stephen King</td>\n",
       "      <td>4.6</td>\n",
       "      <td>2052</td>\n",
       "      <td>22</td>\n",
       "      <td>2011</td>\n",
       "      <td>Fiction</td>\n",
       "    </tr>\n",
       "    <tr>\n",
       "      <th>2</th>\n",
       "      <td>12 Rules for Life: An Antidote to Chaos</td>\n",
       "      <td>Jordan B. Peterson</td>\n",
       "      <td>4.7</td>\n",
       "      <td>18979</td>\n",
       "      <td>15</td>\n",
       "      <td>2018</td>\n",
       "      <td>Non Fiction</td>\n",
       "    </tr>\n",
       "    <tr>\n",
       "      <th>3</th>\n",
       "      <td>1984 (Signet Classics)</td>\n",
       "      <td>George Orwell</td>\n",
       "      <td>4.7</td>\n",
       "      <td>21424</td>\n",
       "      <td>6</td>\n",
       "      <td>2017</td>\n",
       "      <td>Fiction</td>\n",
       "    </tr>\n",
       "    <tr>\n",
       "      <th>4</th>\n",
       "      <td>5,000 Awesome Facts (About Everything!) (Natio...</td>\n",
       "      <td>National Geographic Kids</td>\n",
       "      <td>4.8</td>\n",
       "      <td>7665</td>\n",
       "      <td>12</td>\n",
       "      <td>2019</td>\n",
       "      <td>Non Fiction</td>\n",
       "    </tr>\n",
       "  </tbody>\n",
       "</table>\n",
       "</div>"
      ],
      "text/plain": [
       "                                                Name  \\\n",
       "0                      10-Day Green Smoothie Cleanse   \n",
       "1                                  11/22/63: A Novel   \n",
       "2            12 Rules for Life: An Antidote to Chaos   \n",
       "3                             1984 (Signet Classics)   \n",
       "4  5,000 Awesome Facts (About Everything!) (Natio...   \n",
       "\n",
       "                     Author  User Rating  Reviews  Price  Year        Genre  \n",
       "0                  JJ Smith          4.7    17350      8  2016  Non Fiction  \n",
       "1              Stephen King          4.6     2052     22  2011      Fiction  \n",
       "2        Jordan B. Peterson          4.7    18979     15  2018  Non Fiction  \n",
       "3             George Orwell          4.7    21424      6  2017      Fiction  \n",
       "4  National Geographic Kids          4.8     7665     12  2019  Non Fiction  "
      ]
     },
     "execution_count": 454,
     "metadata": {},
     "output_type": "execute_result"
    }
   ],
   "source": [
    "# Which year had the highest average price for books?\n",
    "\n",
    "database.head()"
   ]
  },
  {
   "cell_type": "code",
   "execution_count": 487,
   "id": "d7fab8f1",
   "metadata": {},
   "outputs": [
    {
     "name": "stdout",
     "output_type": "stream",
     "text": [
      "The year which had the highest average price for books are: 2009\n"
     ]
    }
   ],
   "source": [
    "highest_average_price_year= database.groupby('Year')['Price'].mean().idxmax()\n",
    "print(\"The year which had the highest average price for books are:\",highest_average_price_year)"
   ]
  },
  {
   "cell_type": "code",
   "execution_count": 479,
   "id": "c42c8136",
   "metadata": {},
   "outputs": [
    {
     "name": "stdout",
     "output_type": "stream",
     "text": [
      "The top 10 most expensive books and their rating and reviews are:\n"
     ]
    },
    {
     "data": {
      "text/plain": [
       "Name                                                                               User Rating  Reviews\n",
       "Diagnostic and Statistical Manual of Mental Disorders, 5th Edition: DSM-5          4.5          6679       105\n",
       "The Twilight Saga Collection                                                       4.7          3801        82\n",
       "Hamilton: The Revolution                                                           4.9          5867        54\n",
       "The Book of Basketball: The NBA According to The Sports Guy                        4.7          858         53\n",
       "Harry Potter Paperback Box Set (Books 1-7)                                         4.8          13471       52\n",
       "Publication Manual of the American Psychological Association, 6th Edition          4.5          8580        46\n",
       "Watchmen                                                                           4.8          3829        42\n",
       "The Official SAT Study Guide                                                       4.4          1201        40\n",
       "The Alchemist                                                                      4.7          35799       39\n",
       "The Official SAT Study Guide, 2016 Edition (Official Study Guide for the New Sat)  4.3          807         36\n",
       "Name: Price, dtype: int64"
      ]
     },
     "execution_count": 479,
     "metadata": {},
     "output_type": "execute_result"
    }
   ],
   "source": [
    "# Identify the top 10 most expensive books and analyze their ratings and reviews. \n",
    "\n",
    "Top10_expensive_books=database.groupby(['Name','User Rating','Reviews'])['Price'].max().sort_values(ascending=False)\n",
    "print('The top 10 most expensive books and their rating and reviews are:')\n",
    "Top10_expensive_books.head(10)"
   ]
  },
  {
   "cell_type": "markdown",
   "id": "e56e16a4",
   "metadata": {},
   "source": [
    "# 3. Author Performance:"
   ]
  },
  {
   "cell_type": "code",
   "execution_count": 489,
   "id": "e06863a6",
   "metadata": {},
   "outputs": [
    {
     "name": "stdout",
     "output_type": "stream",
     "text": [
      "The top 5 authors with the most books in this dataset are:\n"
     ]
    },
    {
     "data": {
      "text/html": [
       "<div>\n",
       "<style scoped>\n",
       "    .dataframe tbody tr th:only-of-type {\n",
       "        vertical-align: middle;\n",
       "    }\n",
       "\n",
       "    .dataframe tbody tr th {\n",
       "        vertical-align: top;\n",
       "    }\n",
       "\n",
       "    .dataframe thead th {\n",
       "        text-align: right;\n",
       "    }\n",
       "</style>\n",
       "<table border=\"1\" class=\"dataframe\">\n",
       "  <thead>\n",
       "    <tr style=\"text-align: right;\">\n",
       "      <th></th>\n",
       "      <th>Author</th>\n",
       "      <th>Name</th>\n",
       "      <th>count</th>\n",
       "    </tr>\n",
       "  </thead>\n",
       "  <tbody>\n",
       "    <tr>\n",
       "      <th>0</th>\n",
       "      <td>American Psychological Association</td>\n",
       "      <td>Publication Manual of the American Psychologic...</td>\n",
       "      <td>10</td>\n",
       "    </tr>\n",
       "    <tr>\n",
       "      <th>1</th>\n",
       "      <td>Gallup</td>\n",
       "      <td>StrengthsFinder 2.0</td>\n",
       "      <td>9</td>\n",
       "    </tr>\n",
       "    <tr>\n",
       "      <th>2</th>\n",
       "      <td>Dr. Seuss</td>\n",
       "      <td>Oh, the Places You'll Go!</td>\n",
       "      <td>8</td>\n",
       "    </tr>\n",
       "    <tr>\n",
       "      <th>3</th>\n",
       "      <td>Stephen R. Covey</td>\n",
       "      <td>The 7 Habits of Highly Effective People: Power...</td>\n",
       "      <td>7</td>\n",
       "    </tr>\n",
       "    <tr>\n",
       "      <th>4</th>\n",
       "      <td>Eric Carle</td>\n",
       "      <td>The Very Hungry Caterpillar</td>\n",
       "      <td>7</td>\n",
       "    </tr>\n",
       "  </tbody>\n",
       "</table>\n",
       "</div>"
      ],
      "text/plain": [
       "                               Author  \\\n",
       "0  American Psychological Association   \n",
       "1                              Gallup   \n",
       "2                           Dr. Seuss   \n",
       "3                    Stephen R. Covey   \n",
       "4                          Eric Carle   \n",
       "\n",
       "                                                Name  count  \n",
       "0  Publication Manual of the American Psychologic...     10  \n",
       "1                                StrengthsFinder 2.0      9  \n",
       "2                          Oh, the Places You'll Go!      8  \n",
       "3  The 7 Habits of Highly Effective People: Power...      7  \n",
       "4                        The Very Hungry Caterpillar      7  "
      ]
     },
     "execution_count": 489,
     "metadata": {},
     "output_type": "execute_result"
    }
   ],
   "source": [
    "# Who are the top 5 authors with the most books in this dataset?\n",
    "\n",
    "top5_author=database.groupby('Author')['Name'].value_counts().sort_values(ascending=False).reset_index()\n",
    "print(\"The top 5 authors with the most books in this dataset are:\")\n",
    "top5_author.head()\n"
   ]
  },
  {
   "cell_type": "code",
   "execution_count": 529,
   "id": "51311f57",
   "metadata": {},
   "outputs": [
    {
     "name": "stdout",
     "output_type": "stream",
     "text": [
      "Author who have the highest average user rating across all the books is :\n"
     ]
    },
    {
     "data": {
      "text/plain": [
       "'Alice Schertle'"
      ]
     },
     "execution_count": 529,
     "metadata": {},
     "output_type": "execute_result"
    }
   ],
   "source": [
    "# Which author has the highest average user rating across all their books?\n",
    "\n",
    "High_rat_auth= database.groupby('Author')['User Rating'].mean().idxmax()\n",
    "print('Author who have the highest average user rating across all the books is :')\n",
    "High_rat_auth"
   ]
  },
  {
   "cell_type": "code",
   "execution_count": 548,
   "id": "ce21f64e",
   "metadata": {},
   "outputs": [
    {
     "data": {
      "text/html": [
       "<div>\n",
       "<style scoped>\n",
       "    .dataframe tbody tr th:only-of-type {\n",
       "        vertical-align: middle;\n",
       "    }\n",
       "\n",
       "    .dataframe tbody tr th {\n",
       "        vertical-align: top;\n",
       "    }\n",
       "\n",
       "    .dataframe thead th {\n",
       "        text-align: right;\n",
       "    }\n",
       "</style>\n",
       "<table border=\"1\" class=\"dataframe\">\n",
       "  <thead>\n",
       "    <tr style=\"text-align: right;\">\n",
       "      <th></th>\n",
       "      <th>Name</th>\n",
       "      <th>Author</th>\n",
       "      <th>User Rating</th>\n",
       "      <th>Reviews</th>\n",
       "      <th>Price</th>\n",
       "      <th>Year</th>\n",
       "      <th>Genre</th>\n",
       "    </tr>\n",
       "  </thead>\n",
       "  <tbody>\n",
       "    <tr>\n",
       "      <th>245</th>\n",
       "      <td>Oh, the Places You'll Go!</td>\n",
       "      <td>Dr. Seuss</td>\n",
       "      <td>4.9</td>\n",
       "      <td>21834</td>\n",
       "      <td>8</td>\n",
       "      <td>2012</td>\n",
       "      <td>Fiction</td>\n",
       "    </tr>\n",
       "    <tr>\n",
       "      <th>246</th>\n",
       "      <td>Oh, the Places You'll Go!</td>\n",
       "      <td>Dr. Seuss</td>\n",
       "      <td>4.9</td>\n",
       "      <td>21834</td>\n",
       "      <td>8</td>\n",
       "      <td>2013</td>\n",
       "      <td>Fiction</td>\n",
       "    </tr>\n",
       "    <tr>\n",
       "      <th>247</th>\n",
       "      <td>Oh, the Places You'll Go!</td>\n",
       "      <td>Dr. Seuss</td>\n",
       "      <td>4.9</td>\n",
       "      <td>21834</td>\n",
       "      <td>8</td>\n",
       "      <td>2014</td>\n",
       "      <td>Fiction</td>\n",
       "    </tr>\n",
       "    <tr>\n",
       "      <th>248</th>\n",
       "      <td>Oh, the Places You'll Go!</td>\n",
       "      <td>Dr. Seuss</td>\n",
       "      <td>4.9</td>\n",
       "      <td>21834</td>\n",
       "      <td>8</td>\n",
       "      <td>2015</td>\n",
       "      <td>Fiction</td>\n",
       "    </tr>\n",
       "    <tr>\n",
       "      <th>249</th>\n",
       "      <td>Oh, the Places You'll Go!</td>\n",
       "      <td>Dr. Seuss</td>\n",
       "      <td>4.9</td>\n",
       "      <td>21834</td>\n",
       "      <td>8</td>\n",
       "      <td>2016</td>\n",
       "      <td>Fiction</td>\n",
       "    </tr>\n",
       "  </tbody>\n",
       "</table>\n",
       "</div>"
      ],
      "text/plain": [
       "                          Name     Author  User Rating  Reviews  Price  Year  \\\n",
       "245  Oh, the Places You'll Go!  Dr. Seuss          4.9    21834      8  2012   \n",
       "246  Oh, the Places You'll Go!  Dr. Seuss          4.9    21834      8  2013   \n",
       "247  Oh, the Places You'll Go!  Dr. Seuss          4.9    21834      8  2014   \n",
       "248  Oh, the Places You'll Go!  Dr. Seuss          4.9    21834      8  2015   \n",
       "249  Oh, the Places You'll Go!  Dr. Seuss          4.9    21834      8  2016   \n",
       "\n",
       "       Genre  \n",
       "245  Fiction  \n",
       "246  Fiction  \n",
       "247  Fiction  \n",
       "248  Fiction  \n",
       "249  Fiction  "
      ]
     },
     "execution_count": 548,
     "metadata": {},
     "output_type": "execute_result"
    }
   ],
   "source": [
    "# Analyze the distribution of user ratings and reviews for the top authors.\n",
    "top_reviews=database.sort_values(by=['User Rating','Reviews'],ascending=[False,False])\n",
    "top_reviews.head()"
   ]
  },
  {
   "cell_type": "code",
   "execution_count": 553,
   "id": "7123848c",
   "metadata": {},
   "outputs": [
    {
     "data": {
      "image/png": "[encoded data removed]",
      "text/plain": [
       "<Figure size 500x500 with 1 Axes>"
      ]
     },
     "metadata": {},
     "output_type": "display_data"
    }
   ],
   "source": [
    "plt.figure(figsize=(5,5))\n",
    "sns.histplot(x='User Rating',bins=5,data=top_reviews)\n",
    "plt.show()"
   ]
  },
  {
   "cell_type": "markdown",
   "id": "e0ec0d0f",
   "metadata": {},
   "source": [
    "# 4. Yearly Trends:"
   ]
  },
  {
   "cell_type": "code",
   "execution_count": 563,
   "id": "cdd35fa7",
   "metadata": {},
   "outputs": [],
   "source": [
    "#How has the average rating of books changed over the years?\n",
    "\n",
    "avg_rating_per_year= database.groupby('Year')['User Rating'].mean().reset_index()"
   ]
  },
  {
   "cell_type": "code",
   "execution_count": 566,
   "id": "13bbfdbe",
   "metadata": {},
   "outputs": [
    {
     "data": {
      "image/png": "[encoded data removed]",
      "text/plain": [
       "<Figure size 640x480 with 1 Axes>"
      ]
     },
     "metadata": {},
     "output_type": "display_data"
    }
   ],
   "source": [
    "plt.plot(avg_rating_per_year['Year'],avg_rating_per_year['User Rating'],marker='o')\n",
    "plt.xlabel('Year')\n",
    "plt.ylabel('Average User Rating')\n",
    "plt.title('Average User Rating of Books Over the Years')\n",
    "plt.grid(True)\n",
    "plt.show()"
   ]
  },
  {
   "cell_type": "code",
   "execution_count": 568,
   "id": "46245c01",
   "metadata": {},
   "outputs": [
    {
     "data": {
      "text/html": [
       "<div>\n",
       "<style scoped>\n",
       "    .dataframe tbody tr th:only-of-type {\n",
       "        vertical-align: middle;\n",
       "    }\n",
       "\n",
       "    .dataframe tbody tr th {\n",
       "        vertical-align: top;\n",
       "    }\n",
       "\n",
       "    .dataframe thead th {\n",
       "        text-align: right;\n",
       "    }\n",
       "</style>\n",
       "<table border=\"1\" class=\"dataframe\">\n",
       "  <thead>\n",
       "    <tr style=\"text-align: right;\">\n",
       "      <th></th>\n",
       "      <th>Name</th>\n",
       "      <th>Author</th>\n",
       "      <th>User Rating</th>\n",
       "      <th>Reviews</th>\n",
       "      <th>Price</th>\n",
       "      <th>Year</th>\n",
       "      <th>Genre</th>\n",
       "    </tr>\n",
       "  </thead>\n",
       "  <tbody>\n",
       "    <tr>\n",
       "      <th>0</th>\n",
       "      <td>10-Day Green Smoothie Cleanse</td>\n",
       "      <td>JJ Smith</td>\n",
       "      <td>4.7</td>\n",
       "      <td>17350</td>\n",
       "      <td>8</td>\n",
       "      <td>2016</td>\n",
       "      <td>Non Fiction</td>\n",
       "    </tr>\n",
       "    <tr>\n",
       "      <th>1</th>\n",
       "      <td>11/22/63: A Novel</td>\n",
       "      <td>Stephen King</td>\n",
       "      <td>4.6</td>\n",
       "      <td>2052</td>\n",
       "      <td>22</td>\n",
       "      <td>2011</td>\n",
       "      <td>Fiction</td>\n",
       "    </tr>\n",
       "    <tr>\n",
       "      <th>2</th>\n",
       "      <td>12 Rules for Life: An Antidote to Chaos</td>\n",
       "      <td>Jordan B. Peterson</td>\n",
       "      <td>4.7</td>\n",
       "      <td>18979</td>\n",
       "      <td>15</td>\n",
       "      <td>2018</td>\n",
       "      <td>Non Fiction</td>\n",
       "    </tr>\n",
       "    <tr>\n",
       "      <th>3</th>\n",
       "      <td>1984 (Signet Classics)</td>\n",
       "      <td>George Orwell</td>\n",
       "      <td>4.7</td>\n",
       "      <td>21424</td>\n",
       "      <td>6</td>\n",
       "      <td>2017</td>\n",
       "      <td>Fiction</td>\n",
       "    </tr>\n",
       "    <tr>\n",
       "      <th>4</th>\n",
       "      <td>5,000 Awesome Facts (About Everything!) (Natio...</td>\n",
       "      <td>National Geographic Kids</td>\n",
       "      <td>4.8</td>\n",
       "      <td>7665</td>\n",
       "      <td>12</td>\n",
       "      <td>2019</td>\n",
       "      <td>Non Fiction</td>\n",
       "    </tr>\n",
       "  </tbody>\n",
       "</table>\n",
       "</div>"
      ],
      "text/plain": [
       "                                                Name  \\\n",
       "0                      10-Day Green Smoothie Cleanse   \n",
       "1                                  11/22/63: A Novel   \n",
       "2            12 Rules for Life: An Antidote to Chaos   \n",
       "3                             1984 (Signet Classics)   \n",
       "4  5,000 Awesome Facts (About Everything!) (Natio...   \n",
       "\n",
       "                     Author  User Rating  Reviews  Price  Year        Genre  \n",
       "0                  JJ Smith          4.7    17350      8  2016  Non Fiction  \n",
       "1              Stephen King          4.6     2052     22  2011      Fiction  \n",
       "2        Jordan B. Peterson          4.7    18979     15  2018  Non Fiction  \n",
       "3             George Orwell          4.7    21424      6  2017      Fiction  \n",
       "4  National Geographic Kids          4.8     7665     12  2019  Non Fiction  "
      ]
     },
     "execution_count": 568,
     "metadata": {},
     "output_type": "execute_result"
    }
   ],
   "source": [
    "#Which year had the highest number of bestsellers?\n",
    "database.head()"
   ]
  },
  {
   "cell_type": "code",
   "execution_count": 574,
   "id": "50b2c789",
   "metadata": {},
   "outputs": [
    {
     "data": {
      "text/html": [
       "<div>\n",
       "<style scoped>\n",
       "    .dataframe tbody tr th:only-of-type {\n",
       "        vertical-align: middle;\n",
       "    }\n",
       "\n",
       "    .dataframe tbody tr th {\n",
       "        vertical-align: top;\n",
       "    }\n",
       "\n",
       "    .dataframe thead th {\n",
       "        text-align: right;\n",
       "    }\n",
       "</style>\n",
       "<table border=\"1\" class=\"dataframe\">\n",
       "  <thead>\n",
       "    <tr style=\"text-align: right;\">\n",
       "      <th></th>\n",
       "      <th>Year</th>\n",
       "      <th>Number of Bestsellers</th>\n",
       "    </tr>\n",
       "  </thead>\n",
       "  <tbody>\n",
       "    <tr>\n",
       "      <th>0</th>\n",
       "      <td>2009</td>\n",
       "      <td>50</td>\n",
       "    </tr>\n",
       "    <tr>\n",
       "      <th>1</th>\n",
       "      <td>2010</td>\n",
       "      <td>50</td>\n",
       "    </tr>\n",
       "    <tr>\n",
       "      <th>2</th>\n",
       "      <td>2011</td>\n",
       "      <td>50</td>\n",
       "    </tr>\n",
       "    <tr>\n",
       "      <th>3</th>\n",
       "      <td>2012</td>\n",
       "      <td>50</td>\n",
       "    </tr>\n",
       "    <tr>\n",
       "      <th>4</th>\n",
       "      <td>2013</td>\n",
       "      <td>50</td>\n",
       "    </tr>\n",
       "    <tr>\n",
       "      <th>5</th>\n",
       "      <td>2014</td>\n",
       "      <td>50</td>\n",
       "    </tr>\n",
       "    <tr>\n",
       "      <th>6</th>\n",
       "      <td>2015</td>\n",
       "      <td>50</td>\n",
       "    </tr>\n",
       "    <tr>\n",
       "      <th>7</th>\n",
       "      <td>2016</td>\n",
       "      <td>50</td>\n",
       "    </tr>\n",
       "    <tr>\n",
       "      <th>8</th>\n",
       "      <td>2017</td>\n",
       "      <td>50</td>\n",
       "    </tr>\n",
       "    <tr>\n",
       "      <th>9</th>\n",
       "      <td>2018</td>\n",
       "      <td>50</td>\n",
       "    </tr>\n",
       "    <tr>\n",
       "      <th>10</th>\n",
       "      <td>2019</td>\n",
       "      <td>50</td>\n",
       "    </tr>\n",
       "  </tbody>\n",
       "</table>\n",
       "</div>"
      ],
      "text/plain": [
       "    Year  Number of Bestsellers\n",
       "0   2009                     50\n",
       "1   2010                     50\n",
       "2   2011                     50\n",
       "3   2012                     50\n",
       "4   2013                     50\n",
       "5   2014                     50\n",
       "6   2015                     50\n",
       "7   2016                     50\n",
       "8   2017                     50\n",
       "9   2018                     50\n",
       "10  2019                     50"
      ]
     },
     "execution_count": 574,
     "metadata": {},
     "output_type": "execute_result"
    }
   ],
   "source": [
    "bestsellers_per_year= database.groupby('Year').size().reset_index(name='Number of Bestsellers')\n",
    "bestsellers_per_year"
   ]
  },
  {
   "cell_type": "code",
   "execution_count": 586,
   "id": "00e5a587",
   "metadata": {},
   "outputs": [],
   "source": [
    "#Is there a trend in the genre (Fiction vs. Non Fiction) that becomes a bestseller in certain years?\n",
    "\n",
    "genre_trend=database.groupby(['Year','Genre']).size().reset_index(name='count')"
   ]
  },
  {
   "cell_type": "code",
   "execution_count": 589,
   "id": "f43762c9",
   "metadata": {},
   "outputs": [
    {
     "data": {
      "image/png": "[encoded data removed]",
      "text/plain": [
       "<Figure size 1200x600 with 1 Axes>"
      ]
     },
     "metadata": {},
     "output_type": "display_data"
    }
   ],
   "source": [
    "plt.figure(figsize=(12, 6))\n",
    "sns.lineplot(data=genre_trend, x='Year', y='count', hue='Genre', marker='o')\n",
    "plt.xlabel('Year')\n",
    "plt.ylabel('Number of Bestsellers')\n",
    "plt.title('Trend of Fiction vs. Non Fiction Bestsellers Over the Years')\n",
    "plt.show()"
   ]
  },
  {
   "cell_type": "markdown",
   "id": "09641f8a",
   "metadata": {},
   "source": [
    "# 5. Genre Analysis:"
   ]
  },
  {
   "cell_type": "code",
   "execution_count": 598,
   "id": "08371089",
   "metadata": {},
   "outputs": [
    {
     "data": {
      "text/plain": [
       "Index(['Non Fiction', 'Fiction'], dtype='object', name='Genre')"
      ]
     },
     "execution_count": 598,
     "metadata": {},
     "output_type": "execute_result"
    }
   ],
   "source": [
    "#What is the distribution of books between the Fiction and Non Fiction genres?\n",
    "database['Genre'].value_counts()"
   ]
  },
  {
   "cell_type": "code",
   "execution_count": 617,
   "id": "39ffa76e",
   "metadata": {},
   "outputs": [
    {
     "data": {
      "image/png": "[encoded data removed]",
      "text/plain": [
       "<Figure size 640x480 with 1 Axes>"
      ]
     },
     "metadata": {},
     "output_type": "display_data"
    }
   ],
   "source": [
    "# Generate the pie chart\n",
    "plt.pie(list(database['Genre'].value_counts().values), labels=list(database['Genre'].value_counts().index), autopct='%1.1f%%')\n",
    "plt.title('Distribution of Books Between Fiction and Non Fiction')\n",
    "plt.show()"
   ]
  },
  {
   "cell_type": "code",
   "execution_count": 621,
   "id": "6344e8ba",
   "metadata": {
    "scrolled": true
   },
   "outputs": [
    {
     "data": {
      "text/plain": [
       "Genre\n",
       "Fiction        4.9\n",
       "Non Fiction    4.9\n",
       "Name: User Rating, dtype: float64"
      ]
     },
     "execution_count": 621,
     "metadata": {},
     "output_type": "execute_result"
    }
   ],
   "source": [
    "#Which genre tends to have higher user ratings?\n",
    "\n",
    "database.groupby('Genre')['User Rating'].max()"
   ]
  },
  {
   "cell_type": "code",
   "execution_count": 622,
   "id": "a9e8c941",
   "metadata": {
    "scrolled": true
   },
   "outputs": [
    {
     "data": {
      "text/plain": [
       "Genre\n",
       "Fiction        4.648333\n",
       "Non Fiction    4.595161\n",
       "Name: User Rating, dtype: float64"
      ]
     },
     "execution_count": 622,
     "metadata": {},
     "output_type": "execute_result"
    }
   ],
   "source": [
    "database.groupby('Genre')['User Rating'].mean()"
   ]
  },
  {
   "cell_type": "code",
   "execution_count": 624,
   "id": "86400444",
   "metadata": {},
   "outputs": [
    {
     "data": {
      "text/plain": [
       "Text(0.5, 1.0, 'Average User Rating by Genre')"
      ]
     },
     "execution_count": 624,
     "metadata": {},
     "output_type": "execute_result"
    },
    {
     "data": {
      "image/png": "[encoded data removed]",
      "text/plain": [
       "<Figure size 640x480 with 1 Axes>"
      ]
     },
     "metadata": {},
     "output_type": "display_data"
    }
   ],
   "source": [
    "sns.barplot(x=database.groupby('Genre')['User Rating'].mean().index,y=database.groupby('Genre')['User Rating'].mean().values)\n",
    "plt.xlabel('Genre')\n",
    "plt.ylabel('Average User Rating')\n",
    "plt.title('Average User Rating by Genre')"
   ]
  },
  {
   "cell_type": "code",
   "execution_count": 630,
   "id": "03da25d5",
   "metadata": {},
   "outputs": [
    {
     "data": {
      "text/html": [
       "<div>\n",
       "<style scoped>\n",
       "    .dataframe tbody tr th:only-of-type {\n",
       "        vertical-align: middle;\n",
       "    }\n",
       "\n",
       "    .dataframe tbody tr th {\n",
       "        vertical-align: top;\n",
       "    }\n",
       "\n",
       "    .dataframe thead th {\n",
       "        text-align: right;\n",
       "    }\n",
       "</style>\n",
       "<table border=\"1\" class=\"dataframe\">\n",
       "  <thead>\n",
       "    <tr style=\"text-align: right;\">\n",
       "      <th></th>\n",
       "      <th>count</th>\n",
       "      <th>mean</th>\n",
       "      <th>std</th>\n",
       "      <th>min</th>\n",
       "      <th>25%</th>\n",
       "      <th>50%</th>\n",
       "      <th>75%</th>\n",
       "      <th>max</th>\n",
       "    </tr>\n",
       "    <tr>\n",
       "      <th>Genre</th>\n",
       "      <th></th>\n",
       "      <th></th>\n",
       "      <th></th>\n",
       "      <th></th>\n",
       "      <th></th>\n",
       "      <th></th>\n",
       "      <th></th>\n",
       "      <th></th>\n",
       "    </tr>\n",
       "  </thead>\n",
       "  <tbody>\n",
       "    <tr>\n",
       "      <th>Fiction</th>\n",
       "      <td>240.0</td>\n",
       "      <td>15683.791667</td>\n",
       "      <td>13984.120890</td>\n",
       "      <td>548.0</td>\n",
       "      <td>6162.5</td>\n",
       "      <td>10922.0</td>\n",
       "      <td>21834.00</td>\n",
       "      <td>87841.0</td>\n",
       "    </tr>\n",
       "    <tr>\n",
       "      <th>Non Fiction</th>\n",
       "      <td>310.0</td>\n",
       "      <td>9065.145161</td>\n",
       "      <td>8606.737629</td>\n",
       "      <td>37.0</td>\n",
       "      <td>3235.0</td>\n",
       "      <td>6346.0</td>\n",
       "      <td>11124.25</td>\n",
       "      <td>61133.0</td>\n",
       "    </tr>\n",
       "  </tbody>\n",
       "</table>\n",
       "</div>"
      ],
      "text/plain": [
       "             count          mean           std    min     25%      50%  \\\n",
       "Genre                                                                    \n",
       "Fiction      240.0  15683.791667  13984.120890  548.0  6162.5  10922.0   \n",
       "Non Fiction  310.0   9065.145161   8606.737629   37.0  3235.0   6346.0   \n",
       "\n",
       "                  75%      max  \n",
       "Genre                           \n",
       "Fiction      21834.00  87841.0  \n",
       "Non Fiction  11124.25  61133.0  "
      ]
     },
     "execution_count": 630,
     "metadata": {},
     "output_type": "execute_result"
    }
   ],
   "source": [
    "# Is there a significant difference in the number of reviews between the two genres?\n",
    "\n",
    "database.groupby('Genre')['Reviews'].describe()"
   ]
  },
  {
   "cell_type": "code",
   "execution_count": 636,
   "id": "681982d0",
   "metadata": {},
   "outputs": [
    {
     "name": "stdout",
     "output_type": "stream",
     "text": [
      "The genre with the higher average user rating is the one that tends to have higher user ratings in general.\n"
     ]
    },
    {
     "data": {
      "text/plain": [
       "Genre\n",
       "Fiction        4.648333\n",
       "Non Fiction    4.595161\n",
       "Name: User Rating, dtype: float64"
      ]
     },
     "execution_count": 636,
     "metadata": {},
     "output_type": "execute_result"
    }
   ],
   "source": [
    "#Which genre tends to have higher user ratings?\n",
    "\n",
    "highr_rat=database.groupby('Genre')['User Rating'].mean()\n",
    "print('The genre with the higher average user rating is the one that tends to have higher user ratings in general.')\n",
    "highr_rat"
   ]
  },
  {
   "cell_type": "code",
   "execution_count": null,
   "id": "884da5f1",
   "metadata": {},
   "outputs": [],
   "source": []
  },
  {
   "cell_type": "code",
   "execution_count": null,
   "id": "8f5014cf",
   "metadata": {},
   "outputs": [],
   "source": []
  },
  {
   "cell_type": "code",
   "execution_count": null,
   "id": "4785126b",
   "metadata": {},
   "outputs": [],
   "source": []
  },
  {
   "cell_type": "markdown",
   "id": "b421a60e",
   "metadata": {},
   "source": [
    "# 6. Review Analysis:\n"
   ]
  },
  {
   "cell_type": "code",
   "execution_count": 668,
   "id": "a9839409",
   "metadata": {},
   "outputs": [
    {
     "name": "stdout",
     "output_type": "stream",
     "text": [
      "the least reviews book is :\n"
     ]
    },
    {
     "data": {
      "text/html": [
       "<div>\n",
       "<style scoped>\n",
       "    .dataframe tbody tr th:only-of-type {\n",
       "        vertical-align: middle;\n",
       "    }\n",
       "\n",
       "    .dataframe tbody tr th {\n",
       "        vertical-align: top;\n",
       "    }\n",
       "\n",
       "    .dataframe thead th {\n",
       "        text-align: right;\n",
       "    }\n",
       "</style>\n",
       "<table border=\"1\" class=\"dataframe\">\n",
       "  <thead>\n",
       "    <tr style=\"text-align: right;\">\n",
       "      <th></th>\n",
       "      <th>Name</th>\n",
       "      <th>Author</th>\n",
       "      <th>User Rating</th>\n",
       "      <th>Reviews</th>\n",
       "      <th>Price</th>\n",
       "      <th>Year</th>\n",
       "      <th>Genre</th>\n",
       "    </tr>\n",
       "  </thead>\n",
       "  <tbody>\n",
       "    <tr>\n",
       "      <th>78</th>\n",
       "      <td>Divine Soul Mind Body Healing and Transmission...</td>\n",
       "      <td>Zhi Gang Sha</td>\n",
       "      <td>4.6</td>\n",
       "      <td>37</td>\n",
       "      <td>6</td>\n",
       "      <td>2009</td>\n",
       "      <td>Non Fiction</td>\n",
       "    </tr>\n",
       "  </tbody>\n",
       "</table>\n",
       "</div>"
      ],
      "text/plain": [
       "                                                 Name        Author  \\\n",
       "78  Divine Soul Mind Body Healing and Transmission...  Zhi Gang Sha   \n",
       "\n",
       "    User Rating  Reviews  Price  Year        Genre  \n",
       "78          4.6       37      6  2009  Non Fiction  "
      ]
     },
     "execution_count": 668,
     "metadata": {},
     "output_type": "execute_result"
    }
   ],
   "source": [
    "#Which books have the most and least number of reviews?\n",
    "lease_review=database.iloc[78:79]\n",
    "print(\"the least reviews book is :\")\n",
    "lease_review"
   ]
  },
  {
   "cell_type": "code",
   "execution_count": 664,
   "id": "a65e5b1d",
   "metadata": {},
   "outputs": [
    {
     "data": {
      "text/plain": [
       "78"
      ]
     },
     "execution_count": 664,
     "metadata": {},
     "output_type": "execute_result"
    }
   ],
   "source": [
    "database['Reviews'].idxmin()"
   ]
  },
  {
   "cell_type": "code",
   "execution_count": 655,
   "id": "a5540b6c",
   "metadata": {},
   "outputs": [
    {
     "data": {
      "text/plain": [
       "534"
      ]
     },
     "execution_count": 655,
     "metadata": {},
     "output_type": "execute_result"
    }
   ],
   "source": [
    "min_review['Reviews'].idxmax()"
   ]
  },
  {
   "cell_type": "code",
   "execution_count": 663,
   "id": "d998bc8f",
   "metadata": {},
   "outputs": [
    {
     "name": "stdout",
     "output_type": "stream",
     "text": [
      "the most reviews book is :\n"
     ]
    },
    {
     "data": {
      "text/html": [
       "<div>\n",
       "<style scoped>\n",
       "    .dataframe tbody tr th:only-of-type {\n",
       "        vertical-align: middle;\n",
       "    }\n",
       "\n",
       "    .dataframe tbody tr th {\n",
       "        vertical-align: top;\n",
       "    }\n",
       "\n",
       "    .dataframe thead th {\n",
       "        text-align: right;\n",
       "    }\n",
       "</style>\n",
       "<table border=\"1\" class=\"dataframe\">\n",
       "  <thead>\n",
       "    <tr style=\"text-align: right;\">\n",
       "      <th></th>\n",
       "      <th>Name</th>\n",
       "      <th>Author</th>\n",
       "      <th>User Rating</th>\n",
       "      <th>Reviews</th>\n",
       "      <th>Price</th>\n",
       "      <th>Year</th>\n",
       "      <th>Genre</th>\n",
       "    </tr>\n",
       "  </thead>\n",
       "  <tbody>\n",
       "    <tr>\n",
       "      <th>534</th>\n",
       "      <td>Where the Crawdads Sing</td>\n",
       "      <td>Delia Owens</td>\n",
       "      <td>4.8</td>\n",
       "      <td>87841</td>\n",
       "      <td>15</td>\n",
       "      <td>2019</td>\n",
       "      <td>Fiction</td>\n",
       "    </tr>\n",
       "  </tbody>\n",
       "</table>\n",
       "</div>"
      ],
      "text/plain": [
       "                        Name       Author  User Rating  Reviews  Price  Year  \\\n",
       "534  Where the Crawdads Sing  Delia Owens          4.8    87841     15  2019   \n",
       "\n",
       "       Genre  \n",
       "534  Fiction  "
      ]
     },
     "execution_count": 663,
     "metadata": {},
     "output_type": "execute_result"
    }
   ],
   "source": [
    "most_reviews= database.iloc[534:535]\n",
    "print(\"the most reviews book is :\")\n",
    "most_reviews"
   ]
  },
  {
   "cell_type": "code",
   "execution_count": 670,
   "id": "b7f016e6",
   "metadata": {},
   "outputs": [
    {
     "data": {
      "text/html": [
       "<div>\n",
       "<style scoped>\n",
       "    .dataframe tbody tr th:only-of-type {\n",
       "        vertical-align: middle;\n",
       "    }\n",
       "\n",
       "    .dataframe tbody tr th {\n",
       "        vertical-align: top;\n",
       "    }\n",
       "\n",
       "    .dataframe thead th {\n",
       "        text-align: right;\n",
       "    }\n",
       "</style>\n",
       "<table border=\"1\" class=\"dataframe\">\n",
       "  <thead>\n",
       "    <tr style=\"text-align: right;\">\n",
       "      <th></th>\n",
       "      <th>Reviews</th>\n",
       "      <th>Year</th>\n",
       "    </tr>\n",
       "  </thead>\n",
       "  <tbody>\n",
       "    <tr>\n",
       "      <th>Reviews</th>\n",
       "      <td>1.00000</td>\n",
       "      <td>0.26356</td>\n",
       "    </tr>\n",
       "    <tr>\n",
       "      <th>Year</th>\n",
       "      <td>0.26356</td>\n",
       "      <td>1.00000</td>\n",
       "    </tr>\n",
       "  </tbody>\n",
       "</table>\n",
       "</div>"
      ],
      "text/plain": [
       "         Reviews     Year\n",
       "Reviews  1.00000  0.26356\n",
       "Year     0.26356  1.00000"
      ]
     },
     "execution_count": 670,
     "metadata": {},
     "output_type": "execute_result"
    }
   ],
   "source": [
    "# Is there a relationship between the year of publication and the number of reviews?\n",
    "database[['Reviews','Year']].corr()"
   ]
  },
  {
   "cell_type": "code",
   "execution_count": 679,
   "id": "a4c38dc1",
   "metadata": {},
   "outputs": [
    {
     "data": {
      "text/html": [
       "<div>\n",
       "<style scoped>\n",
       "    .dataframe tbody tr th:only-of-type {\n",
       "        vertical-align: middle;\n",
       "    }\n",
       "\n",
       "    .dataframe tbody tr th {\n",
       "        vertical-align: top;\n",
       "    }\n",
       "\n",
       "    .dataframe thead th {\n",
       "        text-align: right;\n",
       "    }\n",
       "</style>\n",
       "<table border=\"1\" class=\"dataframe\">\n",
       "  <thead>\n",
       "    <tr style=\"text-align: right;\">\n",
       "      <th></th>\n",
       "      <th>Name</th>\n",
       "      <th>Author</th>\n",
       "      <th>User Rating</th>\n",
       "      <th>Reviews</th>\n",
       "      <th>Price</th>\n",
       "      <th>Year</th>\n",
       "      <th>Genre</th>\n",
       "    </tr>\n",
       "  </thead>\n",
       "  <tbody>\n",
       "    <tr>\n",
       "      <th>534</th>\n",
       "      <td>Where the Crawdads Sing</td>\n",
       "      <td>Delia Owens</td>\n",
       "      <td>4.8</td>\n",
       "      <td>87841</td>\n",
       "      <td>15</td>\n",
       "      <td>2019</td>\n",
       "      <td>Fiction</td>\n",
       "    </tr>\n",
       "    <tr>\n",
       "      <th>382</th>\n",
       "      <td>The Girl on the Train</td>\n",
       "      <td>Paula Hawkins</td>\n",
       "      <td>4.1</td>\n",
       "      <td>79446</td>\n",
       "      <td>18</td>\n",
       "      <td>2015</td>\n",
       "      <td>Fiction</td>\n",
       "    </tr>\n",
       "    <tr>\n",
       "      <th>383</th>\n",
       "      <td>The Girl on the Train</td>\n",
       "      <td>Paula Hawkins</td>\n",
       "      <td>4.1</td>\n",
       "      <td>79446</td>\n",
       "      <td>7</td>\n",
       "      <td>2016</td>\n",
       "      <td>Fiction</td>\n",
       "    </tr>\n",
       "    <tr>\n",
       "      <th>32</th>\n",
       "      <td>Becoming</td>\n",
       "      <td>Michelle Obama</td>\n",
       "      <td>4.8</td>\n",
       "      <td>61133</td>\n",
       "      <td>11</td>\n",
       "      <td>2018</td>\n",
       "      <td>Non Fiction</td>\n",
       "    </tr>\n",
       "    <tr>\n",
       "      <th>33</th>\n",
       "      <td>Becoming</td>\n",
       "      <td>Michelle Obama</td>\n",
       "      <td>4.8</td>\n",
       "      <td>61133</td>\n",
       "      <td>11</td>\n",
       "      <td>2019</td>\n",
       "      <td>Non Fiction</td>\n",
       "    </tr>\n",
       "    <tr>\n",
       "      <th>...</th>\n",
       "      <td>...</td>\n",
       "      <td>...</td>\n",
       "      <td>...</td>\n",
       "      <td>...</td>\n",
       "      <td>...</td>\n",
       "      <td>...</td>\n",
       "      <td>...</td>\n",
       "    </tr>\n",
       "    <tr>\n",
       "      <th>359</th>\n",
       "      <td>The Daily Show with Jon Stewart Presents Earth...</td>\n",
       "      <td>Jon Stewart</td>\n",
       "      <td>4.4</td>\n",
       "      <td>440</td>\n",
       "      <td>11</td>\n",
       "      <td>2010</td>\n",
       "      <td>Non Fiction</td>\n",
       "    </tr>\n",
       "    <tr>\n",
       "      <th>512</th>\n",
       "      <td>True Compass: A Memoir</td>\n",
       "      <td>Edward M. Kennedy</td>\n",
       "      <td>4.5</td>\n",
       "      <td>438</td>\n",
       "      <td>15</td>\n",
       "      <td>2009</td>\n",
       "      <td>Non Fiction</td>\n",
       "    </tr>\n",
       "    <tr>\n",
       "      <th>121</th>\n",
       "      <td>George Washington's Sacred Fire</td>\n",
       "      <td>Peter A. Lillback</td>\n",
       "      <td>4.5</td>\n",
       "      <td>408</td>\n",
       "      <td>20</td>\n",
       "      <td>2010</td>\n",
       "      <td>Non Fiction</td>\n",
       "    </tr>\n",
       "    <tr>\n",
       "      <th>300</th>\n",
       "      <td>Soul Healing Miracles: Ancient and New Sacred ...</td>\n",
       "      <td>Zhi Gang Sha</td>\n",
       "      <td>4.6</td>\n",
       "      <td>220</td>\n",
       "      <td>17</td>\n",
       "      <td>2013</td>\n",
       "      <td>Non Fiction</td>\n",
       "    </tr>\n",
       "    <tr>\n",
       "      <th>78</th>\n",
       "      <td>Divine Soul Mind Body Healing and Transmission...</td>\n",
       "      <td>Zhi Gang Sha</td>\n",
       "      <td>4.6</td>\n",
       "      <td>37</td>\n",
       "      <td>6</td>\n",
       "      <td>2009</td>\n",
       "      <td>Non Fiction</td>\n",
       "    </tr>\n",
       "  </tbody>\n",
       "</table>\n",
       "<p>550 rows × 7 columns</p>\n",
       "</div>"
      ],
      "text/plain": [
       "                                                  Name             Author  \\\n",
       "534                            Where the Crawdads Sing        Delia Owens   \n",
       "382                              The Girl on the Train      Paula Hawkins   \n",
       "383                              The Girl on the Train      Paula Hawkins   \n",
       "32                                            Becoming     Michelle Obama   \n",
       "33                                            Becoming     Michelle Obama   \n",
       "..                                                 ...                ...   \n",
       "359  The Daily Show with Jon Stewart Presents Earth...        Jon Stewart   \n",
       "512                             True Compass: A Memoir  Edward M. Kennedy   \n",
       "121                    George Washington's Sacred Fire  Peter A. Lillback   \n",
       "300  Soul Healing Miracles: Ancient and New Sacred ...       Zhi Gang Sha   \n",
       "78   Divine Soul Mind Body Healing and Transmission...       Zhi Gang Sha   \n",
       "\n",
       "     User Rating  Reviews  Price  Year        Genre  \n",
       "534          4.8    87841     15  2019      Fiction  \n",
       "382          4.1    79446     18  2015      Fiction  \n",
       "383          4.1    79446      7  2016      Fiction  \n",
       "32           4.8    61133     11  2018  Non Fiction  \n",
       "33           4.8    61133     11  2019  Non Fiction  \n",
       "..           ...      ...    ...   ...          ...  \n",
       "359          4.4      440     11  2010  Non Fiction  \n",
       "512          4.5      438     15  2009  Non Fiction  \n",
       "121          4.5      408     20  2010  Non Fiction  \n",
       "300          4.6      220     17  2013  Non Fiction  \n",
       "78           4.6       37      6  2009  Non Fiction  \n",
       "\n",
       "[550 rows x 7 columns]"
      ]
     },
     "execution_count": 679,
     "metadata": {},
     "output_type": "execute_result"
    }
   ],
   "source": [
    "#Do books with more reviews tend to have a higher or lower user rating?\n",
    "database.sort_values(by=['Reviews','User Rating'],ascending=[False,False])"
   ]
  },
  {
   "cell_type": "code",
   "execution_count": 684,
   "id": "aad349c4",
   "metadata": {},
   "outputs": [
    {
     "data": {
      "image/png": "[encoded data removed]",
      "text/plain": [
       "<Figure size 700x700 with 1 Axes>"
      ]
     },
     "metadata": {},
     "output_type": "display_data"
    }
   ],
   "source": [
    "##Do books with more reviews tend to have a higher or lower user rating?\n",
    "plt.figure(figsize=(7,7))\n",
    "sns.scatterplot(x='Reviews',y='User Rating',data=database)\n",
    "plt.xlabel('Number of Reviews')\n",
    "plt.ylabel('User Rating')\n",
    "plt.title('Relationship Between Number of Reviews and User Rating')\n",
    "plt.show()"
   ]
  },
  {
   "cell_type": "code",
   "execution_count": 681,
   "id": "d6ee86ca",
   "metadata": {},
   "outputs": [
    {
     "data": {
      "text/plain": [
       "-0.0017290142555501094"
      ]
     },
     "execution_count": 681,
     "metadata": {},
     "output_type": "execute_result"
    }
   ],
   "source": [
    "database['Reviews'].corr(database['User Rating'])\n",
    "\n",
    "\n",
    "# Negative correlation: Books with more reviews tend to have lower ratings."
   ]
  },
  {
   "cell_type": "markdown",
   "id": "9700d740",
   "metadata": {},
   "source": [
    "# 7. Comparative Analysis:"
   ]
  },
  {
   "cell_type": "code",
   "execution_count": 685,
   "id": "0bddbd1a",
   "metadata": {},
   "outputs": [
    {
     "data": {
      "text/html": [
       "<div>\n",
       "<style scoped>\n",
       "    .dataframe tbody tr th:only-of-type {\n",
       "        vertical-align: middle;\n",
       "    }\n",
       "\n",
       "    .dataframe tbody tr th {\n",
       "        vertical-align: top;\n",
       "    }\n",
       "\n",
       "    .dataframe thead th {\n",
       "        text-align: right;\n",
       "    }\n",
       "</style>\n",
       "<table border=\"1\" class=\"dataframe\">\n",
       "  <thead>\n",
       "    <tr style=\"text-align: right;\">\n",
       "      <th></th>\n",
       "      <th>Name</th>\n",
       "      <th>Author</th>\n",
       "      <th>User Rating</th>\n",
       "      <th>Reviews</th>\n",
       "      <th>Price</th>\n",
       "      <th>Year</th>\n",
       "      <th>Genre</th>\n",
       "    </tr>\n",
       "  </thead>\n",
       "  <tbody>\n",
       "    <tr>\n",
       "      <th>0</th>\n",
       "      <td>10-Day Green Smoothie Cleanse</td>\n",
       "      <td>JJ Smith</td>\n",
       "      <td>4.7</td>\n",
       "      <td>17350</td>\n",
       "      <td>8</td>\n",
       "      <td>2016</td>\n",
       "      <td>Non Fiction</td>\n",
       "    </tr>\n",
       "    <tr>\n",
       "      <th>1</th>\n",
       "      <td>11/22/63: A Novel</td>\n",
       "      <td>Stephen King</td>\n",
       "      <td>4.6</td>\n",
       "      <td>2052</td>\n",
       "      <td>22</td>\n",
       "      <td>2011</td>\n",
       "      <td>Fiction</td>\n",
       "    </tr>\n",
       "    <tr>\n",
       "      <th>2</th>\n",
       "      <td>12 Rules for Life: An Antidote to Chaos</td>\n",
       "      <td>Jordan B. Peterson</td>\n",
       "      <td>4.7</td>\n",
       "      <td>18979</td>\n",
       "      <td>15</td>\n",
       "      <td>2018</td>\n",
       "      <td>Non Fiction</td>\n",
       "    </tr>\n",
       "    <tr>\n",
       "      <th>3</th>\n",
       "      <td>1984 (Signet Classics)</td>\n",
       "      <td>George Orwell</td>\n",
       "      <td>4.7</td>\n",
       "      <td>21424</td>\n",
       "      <td>6</td>\n",
       "      <td>2017</td>\n",
       "      <td>Fiction</td>\n",
       "    </tr>\n",
       "    <tr>\n",
       "      <th>4</th>\n",
       "      <td>5,000 Awesome Facts (About Everything!) (Natio...</td>\n",
       "      <td>National Geographic Kids</td>\n",
       "      <td>4.8</td>\n",
       "      <td>7665</td>\n",
       "      <td>12</td>\n",
       "      <td>2019</td>\n",
       "      <td>Non Fiction</td>\n",
       "    </tr>\n",
       "  </tbody>\n",
       "</table>\n",
       "</div>"
      ],
      "text/plain": [
       "                                                Name  \\\n",
       "0                      10-Day Green Smoothie Cleanse   \n",
       "1                                  11/22/63: A Novel   \n",
       "2            12 Rules for Life: An Antidote to Chaos   \n",
       "3                             1984 (Signet Classics)   \n",
       "4  5,000 Awesome Facts (About Everything!) (Natio...   \n",
       "\n",
       "                     Author  User Rating  Reviews  Price  Year        Genre  \n",
       "0                  JJ Smith          4.7    17350      8  2016  Non Fiction  \n",
       "1              Stephen King          4.6     2052     22  2011      Fiction  \n",
       "2        Jordan B. Peterson          4.7    18979     15  2018  Non Fiction  \n",
       "3             George Orwell          4.7    21424      6  2017      Fiction  \n",
       "4  National Geographic Kids          4.8     7665     12  2019  Non Fiction  "
      ]
     },
     "execution_count": 685,
     "metadata": {},
     "output_type": "execute_result"
    }
   ],
   "source": [
    "#Compare the average price, user rating, and number of reviews between Fiction and Non-Fiction books.\n",
    "database.head()\n"
   ]
  },
  {
   "cell_type": "code",
   "execution_count": 695,
   "id": "1523e5ce",
   "metadata": {},
   "outputs": [],
   "source": [
    "comp=database.groupby('Genre')[['Price','User Rating','Reviews']].mean()"
   ]
  },
  {
   "cell_type": "code",
   "execution_count": 697,
   "id": "75925f1b",
   "metadata": {},
   "outputs": [
    {
     "data": {
      "text/html": [
       "<div>\n",
       "<style scoped>\n",
       "    .dataframe tbody tr th:only-of-type {\n",
       "        vertical-align: middle;\n",
       "    }\n",
       "\n",
       "    .dataframe tbody tr th {\n",
       "        vertical-align: top;\n",
       "    }\n",
       "\n",
       "    .dataframe thead th {\n",
       "        text-align: right;\n",
       "    }\n",
       "</style>\n",
       "<table border=\"1\" class=\"dataframe\">\n",
       "  <thead>\n",
       "    <tr style=\"text-align: right;\">\n",
       "      <th></th>\n",
       "      <th>Price</th>\n",
       "      <th>User Rating</th>\n",
       "      <th>Reviews</th>\n",
       "    </tr>\n",
       "    <tr>\n",
       "      <th>Genre</th>\n",
       "      <th></th>\n",
       "      <th></th>\n",
       "      <th></th>\n",
       "    </tr>\n",
       "  </thead>\n",
       "  <tbody>\n",
       "    <tr>\n",
       "      <th>Fiction</th>\n",
       "      <td>10.850000</td>\n",
       "      <td>4.648333</td>\n",
       "      <td>15683.791667</td>\n",
       "    </tr>\n",
       "    <tr>\n",
       "      <th>Non Fiction</th>\n",
       "      <td>14.841935</td>\n",
       "      <td>4.595161</td>\n",
       "      <td>9065.145161</td>\n",
       "    </tr>\n",
       "  </tbody>\n",
       "</table>\n",
       "</div>"
      ],
      "text/plain": [
       "                 Price  User Rating       Reviews\n",
       "Genre                                            \n",
       "Fiction      10.850000     4.648333  15683.791667\n",
       "Non Fiction  14.841935     4.595161   9065.145161"
      ]
     },
     "execution_count": 697,
     "metadata": {},
     "output_type": "execute_result"
    }
   ],
   "source": [
    "comp"
   ]
  },
  {
   "cell_type": "code",
   "execution_count": 707,
   "id": "85e40707",
   "metadata": {},
   "outputs": [
    {
     "data": {
      "image/png": "[encoded data removed]",
      "text/plain": [
       "<Figure size 640x480 with 1 Axes>"
      ]
     },
     "metadata": {},
     "output_type": "display_data"
    },
    {
     "data": {
      "image/png": "[encoded data removed]",
      "text/plain": [
       "<Figure size 640x480 with 1 Axes>"
      ]
     },
     "metadata": {},
     "output_type": "display_data"
    },
    {
     "data": {
      "image/png": "[encoded data removed]",
      "text/plain": [
       "<Figure size 640x480 with 1 Axes>"
      ]
     },
     "metadata": {},
     "output_type": "display_data"
    }
   ],
   "source": [
    "\n",
    "plt.subplot(1,3,1)\n",
    "sns.barplot(x=comp.index,y='Price',data=comp)\n",
    "plt.show()\n",
    "\n",
    "\n",
    "plt.subplot(1,3,2)\n",
    "sns.barplot(x=comp.index,y='User Rating',data=comp)\n",
    "plt.show()\n",
    "\n",
    "\n",
    "plt.subplot(1,3,3)\n",
    "sns.barplot(x=comp.index,y='Reviews',data=comp)\n",
    "plt.show()"
   ]
  },
  {
   "cell_type": "code",
   "execution_count": 721,
   "id": "5832bf35",
   "metadata": {},
   "outputs": [],
   "source": [
    "#How do the top-rated Fiction books compare to the top-rated Non-Fiction books in terms of price and reviews?\n",
    "\n",
    "top_fiction=database[(database['Genre']=='Fiction') & (database['User Rating']>=4.9)]\n",
    "top_nonfiction = database[(database['Genre'] == 'Non Fiction') & (database['User Rating'] >= 4.9)]"
   ]
  },
  {
   "cell_type": "code",
   "execution_count": 723,
   "id": "d95df316",
   "metadata": {
    "scrolled": true
   },
   "outputs": [],
   "source": [
    "fiction_stats=top_fiction[['Price','Reviews']].mean()\n",
    "nonfiction_stats = top_nonfiction[['Price', 'Reviews']].mean()"
   ]
  },
  {
   "cell_type": "code",
   "execution_count": 724,
   "id": "e140aec5",
   "metadata": {},
   "outputs": [
    {
     "data": {
      "text/plain": [
       "Price         14.272727\n",
       "Reviews    13013.090909\n",
       "dtype: float64"
      ]
     },
     "execution_count": 724,
     "metadata": {},
     "output_type": "execute_result"
    }
   ],
   "source": [
    "fiction_stats\n",
    "nonfiction_stats"
   ]
  },
  {
   "cell_type": "markdown",
   "id": "80a2b5d4",
   "metadata": {},
   "source": [
    "# 8. Top Books Identification:"
   ]
  },
  {
   "cell_type": "code",
   "execution_count": 728,
   "id": "d9a1a8c2",
   "metadata": {},
   "outputs": [],
   "source": [
    "#Identify the top 10 books with the highest user ratings and analyze their prices and reviews.\n",
    "\n",
    "Top_10books= database.sort_values(by='User Rating',ascending=False).head(10)"
   ]
  },
  {
   "cell_type": "code",
   "execution_count": 741,
   "id": "d963328a",
   "metadata": {
    "scrolled": true
   },
   "outputs": [
    {
     "name": "stdout",
     "output_type": "stream",
     "text": [
      "Average Price of Top 10 Rated Books: 5.9\n",
      "Average Reviews of Top 10 Rated Books: 11119.4\n"
     ]
    }
   ],
   "source": [
    "avg_price = Top_10books['Price'].mean()\n",
    "avg_reviews = Top_10books['Reviews'].mean()\n",
    "\n",
    "print(f\"Average Price of Top 10 Rated Books: {avg_price}\")\n",
    "print(f\"Average Reviews of Top 10 Rated Books: {avg_reviews}\")"
   ]
  },
  {
   "cell_type": "code",
   "execution_count": 731,
   "id": "5b56220c",
   "metadata": {},
   "outputs": [
    {
     "data": {
      "text/html": [
       "<div>\n",
       "<style scoped>\n",
       "    .dataframe tbody tr th:only-of-type {\n",
       "        vertical-align: middle;\n",
       "    }\n",
       "\n",
       "    .dataframe tbody tr th {\n",
       "        vertical-align: top;\n",
       "    }\n",
       "\n",
       "    .dataframe thead th {\n",
       "        text-align: right;\n",
       "    }\n",
       "</style>\n",
       "<table border=\"1\" class=\"dataframe\">\n",
       "  <thead>\n",
       "    <tr style=\"text-align: right;\">\n",
       "      <th></th>\n",
       "      <th>Name</th>\n",
       "      <th>Author</th>\n",
       "      <th>User Rating</th>\n",
       "      <th>Reviews</th>\n",
       "      <th>Price</th>\n",
       "      <th>Year</th>\n",
       "      <th>Genre</th>\n",
       "    </tr>\n",
       "  </thead>\n",
       "  <tbody>\n",
       "    <tr>\n",
       "      <th>431</th>\n",
       "      <td>The Magnolia Story</td>\n",
       "      <td>Chip Gaines</td>\n",
       "      <td>4.9</td>\n",
       "      <td>7861</td>\n",
       "      <td>5</td>\n",
       "      <td>2016</td>\n",
       "      <td>Non Fiction</td>\n",
       "    </tr>\n",
       "    <tr>\n",
       "      <th>87</th>\n",
       "      <td>Dog Man: Lord of the Fleas: From the Creator o...</td>\n",
       "      <td>Dav Pilkey</td>\n",
       "      <td>4.9</td>\n",
       "      <td>5470</td>\n",
       "      <td>6</td>\n",
       "      <td>2018</td>\n",
       "      <td>Fiction</td>\n",
       "    </tr>\n",
       "    <tr>\n",
       "      <th>85</th>\n",
       "      <td>Dog Man: Fetch-22: From the Creator of Captain...</td>\n",
       "      <td>Dav Pilkey</td>\n",
       "      <td>4.9</td>\n",
       "      <td>12619</td>\n",
       "      <td>8</td>\n",
       "      <td>2019</td>\n",
       "      <td>Fiction</td>\n",
       "    </tr>\n",
       "    <tr>\n",
       "      <th>84</th>\n",
       "      <td>Dog Man: Brawl of the Wild: From the Creator o...</td>\n",
       "      <td>Dav Pilkey</td>\n",
       "      <td>4.9</td>\n",
       "      <td>7235</td>\n",
       "      <td>4</td>\n",
       "      <td>2019</td>\n",
       "      <td>Fiction</td>\n",
       "    </tr>\n",
       "    <tr>\n",
       "      <th>83</th>\n",
       "      <td>Dog Man: Brawl of the Wild: From the Creator o...</td>\n",
       "      <td>Dav Pilkey</td>\n",
       "      <td>4.9</td>\n",
       "      <td>7235</td>\n",
       "      <td>4</td>\n",
       "      <td>2018</td>\n",
       "      <td>Fiction</td>\n",
       "    </tr>\n",
       "    <tr>\n",
       "      <th>82</th>\n",
       "      <td>Dog Man: A Tale of Two Kitties: From the Creat...</td>\n",
       "      <td>Dav Pilkey</td>\n",
       "      <td>4.9</td>\n",
       "      <td>4786</td>\n",
       "      <td>8</td>\n",
       "      <td>2017</td>\n",
       "      <td>Fiction</td>\n",
       "    </tr>\n",
       "    <tr>\n",
       "      <th>81</th>\n",
       "      <td>Dog Man and Cat Kid: From the Creator of Capta...</td>\n",
       "      <td>Dav Pilkey</td>\n",
       "      <td>4.9</td>\n",
       "      <td>5062</td>\n",
       "      <td>6</td>\n",
       "      <td>2018</td>\n",
       "      <td>Fiction</td>\n",
       "    </tr>\n",
       "    <tr>\n",
       "      <th>252</th>\n",
       "      <td>Oh, the Places You'll Go!</td>\n",
       "      <td>Dr. Seuss</td>\n",
       "      <td>4.9</td>\n",
       "      <td>21834</td>\n",
       "      <td>8</td>\n",
       "      <td>2019</td>\n",
       "      <td>Fiction</td>\n",
       "    </tr>\n",
       "    <tr>\n",
       "      <th>476</th>\n",
       "      <td>The Very Hungry Caterpillar</td>\n",
       "      <td>Eric Carle</td>\n",
       "      <td>4.9</td>\n",
       "      <td>19546</td>\n",
       "      <td>5</td>\n",
       "      <td>2013</td>\n",
       "      <td>Fiction</td>\n",
       "    </tr>\n",
       "    <tr>\n",
       "      <th>477</th>\n",
       "      <td>The Very Hungry Caterpillar</td>\n",
       "      <td>Eric Carle</td>\n",
       "      <td>4.9</td>\n",
       "      <td>19546</td>\n",
       "      <td>5</td>\n",
       "      <td>2014</td>\n",
       "      <td>Fiction</td>\n",
       "    </tr>\n",
       "  </tbody>\n",
       "</table>\n",
       "</div>"
      ],
      "text/plain": [
       "                                                  Name       Author  \\\n",
       "431                                 The Magnolia Story  Chip Gaines   \n",
       "87   Dog Man: Lord of the Fleas: From the Creator o...   Dav Pilkey   \n",
       "85   Dog Man: Fetch-22: From the Creator of Captain...   Dav Pilkey   \n",
       "84   Dog Man: Brawl of the Wild: From the Creator o...   Dav Pilkey   \n",
       "83   Dog Man: Brawl of the Wild: From the Creator o...   Dav Pilkey   \n",
       "82   Dog Man: A Tale of Two Kitties: From the Creat...   Dav Pilkey   \n",
       "81   Dog Man and Cat Kid: From the Creator of Capta...   Dav Pilkey   \n",
       "252                          Oh, the Places You'll Go!    Dr. Seuss   \n",
       "476                        The Very Hungry Caterpillar   Eric Carle   \n",
       "477                        The Very Hungry Caterpillar   Eric Carle   \n",
       "\n",
       "     User Rating  Reviews  Price  Year        Genre  \n",
       "431          4.9     7861      5  2016  Non Fiction  \n",
       "87           4.9     5470      6  2018      Fiction  \n",
       "85           4.9    12619      8  2019      Fiction  \n",
       "84           4.9     7235      4  2019      Fiction  \n",
       "83           4.9     7235      4  2018      Fiction  \n",
       "82           4.9     4786      8  2017      Fiction  \n",
       "81           4.9     5062      6  2018      Fiction  \n",
       "252          4.9    21834      8  2019      Fiction  \n",
       "476          4.9    19546      5  2013      Fiction  \n",
       "477          4.9    19546      5  2014      Fiction  "
      ]
     },
     "execution_count": 731,
     "metadata": {},
     "output_type": "execute_result"
    }
   ],
   "source": [
    "Top_10books"
   ]
  },
  {
   "cell_type": "code",
   "execution_count": 734,
   "id": "07e59199",
   "metadata": {},
   "outputs": [
    {
     "data": {
      "text/html": [
       "<div>\n",
       "<style scoped>\n",
       "    .dataframe tbody tr th:only-of-type {\n",
       "        vertical-align: middle;\n",
       "    }\n",
       "\n",
       "    .dataframe tbody tr th {\n",
       "        vertical-align: top;\n",
       "    }\n",
       "\n",
       "    .dataframe thead th {\n",
       "        text-align: right;\n",
       "    }\n",
       "</style>\n",
       "<table border=\"1\" class=\"dataframe\">\n",
       "  <thead>\n",
       "    <tr style=\"text-align: right;\">\n",
       "      <th></th>\n",
       "      <th>Name</th>\n",
       "      <th>Author</th>\n",
       "      <th>User Rating</th>\n",
       "      <th>Reviews</th>\n",
       "      <th>Price</th>\n",
       "      <th>Year</th>\n",
       "      <th>Genre</th>\n",
       "    </tr>\n",
       "  </thead>\n",
       "  <tbody>\n",
       "    <tr>\n",
       "      <th>245</th>\n",
       "      <td>Oh, the Places You'll Go!</td>\n",
       "      <td>Dr. Seuss</td>\n",
       "      <td>4.9</td>\n",
       "      <td>21834</td>\n",
       "      <td>8</td>\n",
       "      <td>2012</td>\n",
       "      <td>Fiction</td>\n",
       "    </tr>\n",
       "    <tr>\n",
       "      <th>246</th>\n",
       "      <td>Oh, the Places You'll Go!</td>\n",
       "      <td>Dr. Seuss</td>\n",
       "      <td>4.9</td>\n",
       "      <td>21834</td>\n",
       "      <td>8</td>\n",
       "      <td>2013</td>\n",
       "      <td>Fiction</td>\n",
       "    </tr>\n",
       "    <tr>\n",
       "      <th>247</th>\n",
       "      <td>Oh, the Places You'll Go!</td>\n",
       "      <td>Dr. Seuss</td>\n",
       "      <td>4.9</td>\n",
       "      <td>21834</td>\n",
       "      <td>8</td>\n",
       "      <td>2014</td>\n",
       "      <td>Fiction</td>\n",
       "    </tr>\n",
       "    <tr>\n",
       "      <th>248</th>\n",
       "      <td>Oh, the Places You'll Go!</td>\n",
       "      <td>Dr. Seuss</td>\n",
       "      <td>4.9</td>\n",
       "      <td>21834</td>\n",
       "      <td>8</td>\n",
       "      <td>2015</td>\n",
       "      <td>Fiction</td>\n",
       "    </tr>\n",
       "    <tr>\n",
       "      <th>249</th>\n",
       "      <td>Oh, the Places You'll Go!</td>\n",
       "      <td>Dr. Seuss</td>\n",
       "      <td>4.9</td>\n",
       "      <td>21834</td>\n",
       "      <td>8</td>\n",
       "      <td>2016</td>\n",
       "      <td>Fiction</td>\n",
       "    </tr>\n",
       "    <tr>\n",
       "      <th>250</th>\n",
       "      <td>Oh, the Places You'll Go!</td>\n",
       "      <td>Dr. Seuss</td>\n",
       "      <td>4.9</td>\n",
       "      <td>21834</td>\n",
       "      <td>8</td>\n",
       "      <td>2017</td>\n",
       "      <td>Fiction</td>\n",
       "    </tr>\n",
       "    <tr>\n",
       "      <th>251</th>\n",
       "      <td>Oh, the Places You'll Go!</td>\n",
       "      <td>Dr. Seuss</td>\n",
       "      <td>4.9</td>\n",
       "      <td>21834</td>\n",
       "      <td>8</td>\n",
       "      <td>2018</td>\n",
       "      <td>Fiction</td>\n",
       "    </tr>\n",
       "    <tr>\n",
       "      <th>252</th>\n",
       "      <td>Oh, the Places You'll Go!</td>\n",
       "      <td>Dr. Seuss</td>\n",
       "      <td>4.9</td>\n",
       "      <td>21834</td>\n",
       "      <td>8</td>\n",
       "      <td>2019</td>\n",
       "      <td>Fiction</td>\n",
       "    </tr>\n",
       "    <tr>\n",
       "      <th>153</th>\n",
       "      <td>Harry Potter and the Chamber of Secrets: The I...</td>\n",
       "      <td>J.K. Rowling</td>\n",
       "      <td>4.9</td>\n",
       "      <td>19622</td>\n",
       "      <td>30</td>\n",
       "      <td>2016</td>\n",
       "      <td>Fiction</td>\n",
       "    </tr>\n",
       "    <tr>\n",
       "      <th>187</th>\n",
       "      <td>Jesus Calling: Enjoying Peace in His Presence ...</td>\n",
       "      <td>Sarah Young</td>\n",
       "      <td>4.9</td>\n",
       "      <td>19576</td>\n",
       "      <td>8</td>\n",
       "      <td>2011</td>\n",
       "      <td>Non Fiction</td>\n",
       "    </tr>\n",
       "  </tbody>\n",
       "</table>\n",
       "</div>"
      ],
      "text/plain": [
       "                                                  Name        Author  \\\n",
       "245                          Oh, the Places You'll Go!     Dr. Seuss   \n",
       "246                          Oh, the Places You'll Go!     Dr. Seuss   \n",
       "247                          Oh, the Places You'll Go!     Dr. Seuss   \n",
       "248                          Oh, the Places You'll Go!     Dr. Seuss   \n",
       "249                          Oh, the Places You'll Go!     Dr. Seuss   \n",
       "250                          Oh, the Places You'll Go!     Dr. Seuss   \n",
       "251                          Oh, the Places You'll Go!     Dr. Seuss   \n",
       "252                          Oh, the Places You'll Go!     Dr. Seuss   \n",
       "153  Harry Potter and the Chamber of Secrets: The I...  J.K. Rowling   \n",
       "187  Jesus Calling: Enjoying Peace in His Presence ...   Sarah Young   \n",
       "\n",
       "     User Rating  Reviews  Price  Year        Genre  \n",
       "245          4.9    21834      8  2012      Fiction  \n",
       "246          4.9    21834      8  2013      Fiction  \n",
       "247          4.9    21834      8  2014      Fiction  \n",
       "248          4.9    21834      8  2015      Fiction  \n",
       "249          4.9    21834      8  2016      Fiction  \n",
       "250          4.9    21834      8  2017      Fiction  \n",
       "251          4.9    21834      8  2018      Fiction  \n",
       "252          4.9    21834      8  2019      Fiction  \n",
       "153          4.9    19622     30  2016      Fiction  \n",
       "187          4.9    19576      8  2011  Non Fiction  "
      ]
     },
     "execution_count": 734,
     "metadata": {},
     "output_type": "execute_result"
    }
   ],
   "source": [
    "#Which books are consistently in the top 10 in terms of ratings, reviews, and price?\n",
    "\n",
    "database.sort_values(by=['User Rating','Reviews','Price'],ascending=[False,False,False]).head(10)"
   ]
  },
  {
   "cell_type": "code",
   "execution_count": 738,
   "id": "e39b3027",
   "metadata": {},
   "outputs": [
    {
     "name": "stdout",
     "output_type": "stream",
     "text": [
      "Top 10 by Ratings:\n",
      "                                                   Name  User Rating  Reviews  \\\n",
      "40            Brown Bear, Brown Bear, What Do You See?          4.9    14344   \n",
      "41            Brown Bear, Brown Bear, What Do You See?          4.9    14344   \n",
      "81   Dog Man and Cat Kid: From the Creator of Capta...          4.9     5062   \n",
      "82   Dog Man: A Tale of Two Kitties: From the Creat...          4.9     4786   \n",
      "83   Dog Man: Brawl of the Wild: From the Creator o...          4.9     7235   \n",
      "84   Dog Man: Brawl of the Wild: From the Creator o...          4.9     7235   \n",
      "85   Dog Man: Fetch-22: From the Creator of Captain...          4.9    12619   \n",
      "86   Dog Man: For Whom the Ball Rolls: From the Cre...          4.9     9089   \n",
      "87   Dog Man: Lord of the Fleas: From the Creator o...          4.9     5470   \n",
      "146  Goodnight, Goodnight Construction Site (Hardco...          4.9     7038   \n",
      "\n",
      "     Price  \n",
      "40       5  \n",
      "41       5  \n",
      "81       6  \n",
      "82       8  \n",
      "83       4  \n",
      "84       4  \n",
      "85       8  \n",
      "86       8  \n",
      "87       6  \n",
      "146      7  \n",
      "Top 10 by Reviews:\n",
      "                         Name  User Rating  Reviews  Price\n",
      "534  Where the Crawdads Sing          4.8    87841     15\n",
      "382    The Girl on the Train          4.1    79446     18\n",
      "383    The Girl on the Train          4.1    79446      7\n",
      "32                  Becoming          4.8    61133     11\n",
      "33                  Becoming          4.8    61133     11\n",
      "135                Gone Girl          4.0    57271     10\n",
      "136                Gone Girl          4.0    57271     10\n",
      "137                Gone Girl          4.0    57271      9\n",
      "365   The Fault in Our Stars          4.7    50482     13\n",
      "366   The Fault in Our Stars          4.7    50482     13\n",
      "Top 10 by Price:\n",
      "                                                   Name  User Rating  Reviews  \\\n",
      "69   Diagnostic and Statistical Manual of Mental Di...          4.5     6679   \n",
      "70   Diagnostic and Statistical Manual of Mental Di...          4.5     6679   \n",
      "473                       The Twilight Saga Collection          4.7     3801   \n",
      "151                           Hamilton: The Revolution          4.9     5867   \n",
      "346  The Book of Basketball: The NBA According to T...          4.7      858   \n",
      "159         Harry Potter Paperback Box Set (Books 1-7)          4.8    13471   \n",
      "271  Publication Manual of the American Psychologic...          4.5     8580   \n",
      "272  Publication Manual of the American Psychologic...          4.5     8580   \n",
      "273  Publication Manual of the American Psychologic...          4.5     8580   \n",
      "274  Publication Manual of the American Psychologic...          4.5     8580   \n",
      "\n",
      "     Price  \n",
      "69     105  \n",
      "70     105  \n",
      "473     82  \n",
      "151     54  \n",
      "346     53  \n",
      "159     52  \n",
      "271     46  \n",
      "272     46  \n",
      "273     46  \n",
      "274     46  \n"
     ]
    }
   ],
   "source": [
    "# Top 10 books by User Rating\n",
    "top_rated_books = database.nlargest(10, 'User Rating')\n",
    "\n",
    "# Top 10 books by Reviews\n",
    "top_reviewed_books = database.nlargest(10, 'Reviews')\n",
    "\n",
    "# Top 10 books by Price\n",
    "top_priced_books = database.nlargest(10, 'Price')\n",
    "\n",
    "# Display the top 10 books in each category\n",
    "print(\"Top 10 by Ratings:\\n\", top_rated_books[['Name', 'User Rating', 'Reviews', 'Price']])\n",
    "print(\"Top 10 by Reviews:\\n\", top_reviewed_books[['Name', 'User Rating', 'Reviews', 'Price']])\n",
    "print(\"Top 10 by Price:\\n\", top_priced_books[['Name', 'User Rating', 'Reviews', 'Price']])"
   ]
  },
  {
   "cell_type": "code",
   "execution_count": 739,
   "id": "91520807",
   "metadata": {},
   "outputs": [
    {
     "name": "stdout",
     "output_type": "stream",
     "text": [
      "Books consistently in the top 10 for ratings, reviews, and price:\n",
      " set()\n"
     ]
    }
   ],
   "source": [
    "# Convert the book names to sets for comparison\n",
    "top_rated_set = set(top_rated_books['Name'])\n",
    "top_reviewed_set = set(top_reviewed_books['Name'])\n",
    "top_priced_set = set(top_priced_books['Name'])\n",
    "\n",
    "# Find the intersection of the three sets (books that are common in all top 10 lists)\n",
    "consistent_top_books = top_rated_set & top_reviewed_set & top_priced_set\n",
    "\n",
    "# Display the books that are consistently in the top 10 across ratings, reviews, and price\n",
    "print(\"Books consistently in the top 10 for ratings, reviews, and price:\\n\", consistent_top_books)"
   ]
  },
  {
   "cell_type": "markdown",
   "id": "5500b040",
   "metadata": {},
   "source": [
    "# 9. Genre-Specific Trends:"
   ]
  },
  {
   "cell_type": "code",
   "execution_count": 749,
   "id": "bb6bd522",
   "metadata": {},
   "outputs": [],
   "source": [
    "# Within each genre, identify the top 5 most reviewed books and analyze their ratings and prices.\n",
    "Fic = database[database['Genre']=='Fiction']"
   ]
  },
  {
   "cell_type": "code",
   "execution_count": 756,
   "id": "f89565f1",
   "metadata": {},
   "outputs": [],
   "source": [
    "top5=Fic.nlargest(5, ['User Rating','Price'])"
   ]
  },
  {
   "cell_type": "code",
   "execution_count": 757,
   "id": "21428126",
   "metadata": {},
   "outputs": [
    {
     "data": {
      "text/html": [
       "<div>\n",
       "<style scoped>\n",
       "    .dataframe tbody tr th:only-of-type {\n",
       "        vertical-align: middle;\n",
       "    }\n",
       "\n",
       "    .dataframe tbody tr th {\n",
       "        vertical-align: top;\n",
       "    }\n",
       "\n",
       "    .dataframe thead th {\n",
       "        text-align: right;\n",
       "    }\n",
       "</style>\n",
       "<table border=\"1\" class=\"dataframe\">\n",
       "  <thead>\n",
       "    <tr style=\"text-align: right;\">\n",
       "      <th></th>\n",
       "      <th>Name</th>\n",
       "      <th>Author</th>\n",
       "      <th>User Rating</th>\n",
       "      <th>Reviews</th>\n",
       "      <th>Price</th>\n",
       "      <th>Year</th>\n",
       "      <th>Genre</th>\n",
       "    </tr>\n",
       "  </thead>\n",
       "  <tbody>\n",
       "    <tr>\n",
       "      <th>153</th>\n",
       "      <td>Harry Potter and the Chamber of Secrets: The I...</td>\n",
       "      <td>J.K. Rowling</td>\n",
       "      <td>4.9</td>\n",
       "      <td>19622</td>\n",
       "      <td>30</td>\n",
       "      <td>2016</td>\n",
       "      <td>Fiction</td>\n",
       "    </tr>\n",
       "    <tr>\n",
       "      <th>156</th>\n",
       "      <td>Harry Potter and the Prisoner of Azkaban: The ...</td>\n",
       "      <td>J.K. Rowling</td>\n",
       "      <td>4.9</td>\n",
       "      <td>3146</td>\n",
       "      <td>30</td>\n",
       "      <td>2017</td>\n",
       "      <td>Fiction</td>\n",
       "    </tr>\n",
       "    <tr>\n",
       "      <th>157</th>\n",
       "      <td>Harry Potter and the Sorcerer's Stone: The Ill...</td>\n",
       "      <td>J.K. Rowling</td>\n",
       "      <td>4.9</td>\n",
       "      <td>10052</td>\n",
       "      <td>22</td>\n",
       "      <td>2016</td>\n",
       "      <td>Fiction</td>\n",
       "    </tr>\n",
       "    <tr>\n",
       "      <th>420</th>\n",
       "      <td>The Legend of Zelda: Hyrule Historia</td>\n",
       "      <td>Patrick Thorpe</td>\n",
       "      <td>4.9</td>\n",
       "      <td>5396</td>\n",
       "      <td>20</td>\n",
       "      <td>2013</td>\n",
       "      <td>Fiction</td>\n",
       "    </tr>\n",
       "    <tr>\n",
       "      <th>155</th>\n",
       "      <td>Harry Potter and the Goblet of Fire: The Illus...</td>\n",
       "      <td>J. K. Rowling</td>\n",
       "      <td>4.9</td>\n",
       "      <td>7758</td>\n",
       "      <td>18</td>\n",
       "      <td>2019</td>\n",
       "      <td>Fiction</td>\n",
       "    </tr>\n",
       "  </tbody>\n",
       "</table>\n",
       "</div>"
      ],
      "text/plain": [
       "                                                  Name          Author  \\\n",
       "153  Harry Potter and the Chamber of Secrets: The I...    J.K. Rowling   \n",
       "156  Harry Potter and the Prisoner of Azkaban: The ...    J.K. Rowling   \n",
       "157  Harry Potter and the Sorcerer's Stone: The Ill...    J.K. Rowling   \n",
       "420               The Legend of Zelda: Hyrule Historia  Patrick Thorpe   \n",
       "155  Harry Potter and the Goblet of Fire: The Illus...   J. K. Rowling   \n",
       "\n",
       "     User Rating  Reviews  Price  Year    Genre  \n",
       "153          4.9    19622     30  2016  Fiction  \n",
       "156          4.9     3146     30  2017  Fiction  \n",
       "157          4.9    10052     22  2016  Fiction  \n",
       "420          4.9     5396     20  2013  Fiction  \n",
       "155          4.9     7758     18  2019  Fiction  "
      ]
     },
     "execution_count": 757,
     "metadata": {},
     "output_type": "execute_result"
    }
   ],
   "source": [
    "top5"
   ]
  },
  {
   "cell_type": "code",
   "execution_count": 758,
   "id": "4757f0f7",
   "metadata": {},
   "outputs": [],
   "source": [
    "nonfic = database[database['Genre']=='Non Fiction']"
   ]
  },
  {
   "cell_type": "code",
   "execution_count": 759,
   "id": "0415f9fe",
   "metadata": {},
   "outputs": [],
   "source": [
    "topnon5=nonfic.nlargest(5, ['User Rating','Price'])"
   ]
  },
  {
   "cell_type": "code",
   "execution_count": 760,
   "id": "a7251124",
   "metadata": {},
   "outputs": [
    {
     "data": {
      "text/html": [
       "<div>\n",
       "<style scoped>\n",
       "    .dataframe tbody tr th:only-of-type {\n",
       "        vertical-align: middle;\n",
       "    }\n",
       "\n",
       "    .dataframe tbody tr th {\n",
       "        vertical-align: top;\n",
       "    }\n",
       "\n",
       "    .dataframe thead th {\n",
       "        text-align: right;\n",
       "    }\n",
       "</style>\n",
       "<table border=\"1\" class=\"dataframe\">\n",
       "  <thead>\n",
       "    <tr style=\"text-align: right;\">\n",
       "      <th></th>\n",
       "      <th>Name</th>\n",
       "      <th>Author</th>\n",
       "      <th>User Rating</th>\n",
       "      <th>Reviews</th>\n",
       "      <th>Price</th>\n",
       "      <th>Year</th>\n",
       "      <th>Genre</th>\n",
       "    </tr>\n",
       "  </thead>\n",
       "  <tbody>\n",
       "    <tr>\n",
       "      <th>151</th>\n",
       "      <td>Hamilton: The Revolution</td>\n",
       "      <td>Lin-Manuel Miranda</td>\n",
       "      <td>4.9</td>\n",
       "      <td>5867</td>\n",
       "      <td>54</td>\n",
       "      <td>2016</td>\n",
       "      <td>Non Fiction</td>\n",
       "    </tr>\n",
       "    <tr>\n",
       "      <th>244</th>\n",
       "      <td>Obama: An Intimate Portrait</td>\n",
       "      <td>Pete Souza</td>\n",
       "      <td>4.9</td>\n",
       "      <td>3192</td>\n",
       "      <td>22</td>\n",
       "      <td>2017</td>\n",
       "      <td>Non Fiction</td>\n",
       "    </tr>\n",
       "    <tr>\n",
       "      <th>174</th>\n",
       "      <td>Humans of New York : Stories</td>\n",
       "      <td>Brandon Stanton</td>\n",
       "      <td>4.9</td>\n",
       "      <td>2812</td>\n",
       "      <td>17</td>\n",
       "      <td>2015</td>\n",
       "      <td>Non Fiction</td>\n",
       "    </tr>\n",
       "    <tr>\n",
       "      <th>521</th>\n",
       "      <td>Unfreedom of the Press</td>\n",
       "      <td>Mark R. Levin</td>\n",
       "      <td>4.9</td>\n",
       "      <td>5956</td>\n",
       "      <td>11</td>\n",
       "      <td>2019</td>\n",
       "      <td>Non Fiction</td>\n",
       "    </tr>\n",
       "    <tr>\n",
       "      <th>187</th>\n",
       "      <td>Jesus Calling: Enjoying Peace in His Presence ...</td>\n",
       "      <td>Sarah Young</td>\n",
       "      <td>4.9</td>\n",
       "      <td>19576</td>\n",
       "      <td>8</td>\n",
       "      <td>2011</td>\n",
       "      <td>Non Fiction</td>\n",
       "    </tr>\n",
       "  </tbody>\n",
       "</table>\n",
       "</div>"
      ],
      "text/plain": [
       "                                                  Name              Author  \\\n",
       "151                           Hamilton: The Revolution  Lin-Manuel Miranda   \n",
       "244                        Obama: An Intimate Portrait          Pete Souza   \n",
       "174                       Humans of New York : Stories     Brandon Stanton   \n",
       "521                             Unfreedom of the Press       Mark R. Levin   \n",
       "187  Jesus Calling: Enjoying Peace in His Presence ...         Sarah Young   \n",
       "\n",
       "     User Rating  Reviews  Price  Year        Genre  \n",
       "151          4.9     5867     54  2016  Non Fiction  \n",
       "244          4.9     3192     22  2017  Non Fiction  \n",
       "174          4.9     2812     17  2015  Non Fiction  \n",
       "521          4.9     5956     11  2019  Non Fiction  \n",
       "187          4.9    19576      8  2011  Non Fiction  "
      ]
     },
     "execution_count": 760,
     "metadata": {},
     "output_type": "execute_result"
    }
   ],
   "source": [
    "topnon5"
   ]
  },
  {
   "cell_type": "code",
   "execution_count": 764,
   "id": "84e3f763",
   "metadata": {},
   "outputs": [
    {
     "data": {
      "text/html": [
       "<div>\n",
       "<style scoped>\n",
       "    .dataframe tbody tr th:only-of-type {\n",
       "        vertical-align: middle;\n",
       "    }\n",
       "\n",
       "    .dataframe tbody tr th {\n",
       "        vertical-align: top;\n",
       "    }\n",
       "\n",
       "    .dataframe thead th {\n",
       "        text-align: right;\n",
       "    }\n",
       "</style>\n",
       "<table border=\"1\" class=\"dataframe\">\n",
       "  <thead>\n",
       "    <tr style=\"text-align: right;\">\n",
       "      <th></th>\n",
       "      <th>Year</th>\n",
       "      <th>Genre</th>\n",
       "      <th>User Rating</th>\n",
       "      <th>Reviews</th>\n",
       "    </tr>\n",
       "  </thead>\n",
       "  <tbody>\n",
       "    <tr>\n",
       "      <th>0</th>\n",
       "      <td>2009</td>\n",
       "      <td>Fiction</td>\n",
       "      <td>4.591667</td>\n",
       "      <td>6534.333333</td>\n",
       "    </tr>\n",
       "    <tr>\n",
       "      <th>1</th>\n",
       "      <td>2009</td>\n",
       "      <td>Non Fiction</td>\n",
       "      <td>4.576923</td>\n",
       "      <td>3026.230769</td>\n",
       "    </tr>\n",
       "    <tr>\n",
       "      <th>2</th>\n",
       "      <td>2010</td>\n",
       "      <td>Fiction</td>\n",
       "      <td>4.615000</td>\n",
       "      <td>8409.250000</td>\n",
       "    </tr>\n",
       "    <tr>\n",
       "      <th>3</th>\n",
       "      <td>2010</td>\n",
       "      <td>Non Fiction</td>\n",
       "      <td>4.520000</td>\n",
       "      <td>3526.533333</td>\n",
       "    </tr>\n",
       "    <tr>\n",
       "      <th>4</th>\n",
       "      <td>2011</td>\n",
       "      <td>Fiction</td>\n",
       "      <td>4.619048</td>\n",
       "      <td>10335.285714</td>\n",
       "    </tr>\n",
       "    <tr>\n",
       "      <th>5</th>\n",
       "      <td>2011</td>\n",
       "      <td>Non Fiction</td>\n",
       "      <td>4.513793</td>\n",
       "      <td>6482.758621</td>\n",
       "    </tr>\n",
       "    <tr>\n",
       "      <th>6</th>\n",
       "      <td>2012</td>\n",
       "      <td>Fiction</td>\n",
       "      <td>4.495238</td>\n",
       "      <td>19896.238095</td>\n",
       "    </tr>\n",
       "    <tr>\n",
       "      <th>7</th>\n",
       "      <td>2012</td>\n",
       "      <td>Non Fiction</td>\n",
       "      <td>4.558621</td>\n",
       "      <td>8162.931034</td>\n",
       "    </tr>\n",
       "    <tr>\n",
       "      <th>8</th>\n",
       "      <td>2013</td>\n",
       "      <td>Fiction</td>\n",
       "      <td>4.545833</td>\n",
       "      <td>19986.833333</td>\n",
       "    </tr>\n",
       "    <tr>\n",
       "      <th>9</th>\n",
       "      <td>2013</td>\n",
       "      <td>Non Fiction</td>\n",
       "      <td>4.561538</td>\n",
       "      <td>6739.346154</td>\n",
       "    </tr>\n",
       "    <tr>\n",
       "      <th>10</th>\n",
       "      <td>2014</td>\n",
       "      <td>Fiction</td>\n",
       "      <td>4.631034</td>\n",
       "      <td>19382.862069</td>\n",
       "    </tr>\n",
       "    <tr>\n",
       "      <th>11</th>\n",
       "      <td>2014</td>\n",
       "      <td>Non Fiction</td>\n",
       "      <td>4.609524</td>\n",
       "      <td>10994.952381</td>\n",
       "    </tr>\n",
       "    <tr>\n",
       "      <th>12</th>\n",
       "      <td>2015</td>\n",
       "      <td>Fiction</td>\n",
       "      <td>4.652941</td>\n",
       "      <td>23706.117647</td>\n",
       "    </tr>\n",
       "    <tr>\n",
       "      <th>13</th>\n",
       "      <td>2015</td>\n",
       "      <td>Non Fiction</td>\n",
       "      <td>4.645455</td>\n",
       "      <td>9353.484848</td>\n",
       "    </tr>\n",
       "    <tr>\n",
       "      <th>14</th>\n",
       "      <td>2016</td>\n",
       "      <td>Fiction</td>\n",
       "      <td>4.715789</td>\n",
       "      <td>19563.263158</td>\n",
       "    </tr>\n",
       "    <tr>\n",
       "      <th>15</th>\n",
       "      <td>2016</td>\n",
       "      <td>Non Fiction</td>\n",
       "      <td>4.654839</td>\n",
       "      <td>10906.387097</td>\n",
       "    </tr>\n",
       "    <tr>\n",
       "      <th>16</th>\n",
       "      <td>2017</td>\n",
       "      <td>Fiction</td>\n",
       "      <td>4.737500</td>\n",
       "      <td>14611.833333</td>\n",
       "    </tr>\n",
       "    <tr>\n",
       "      <th>17</th>\n",
       "      <td>2017</td>\n",
       "      <td>Non Fiction</td>\n",
       "      <td>4.588462</td>\n",
       "      <td>11297.538462</td>\n",
       "    </tr>\n",
       "    <tr>\n",
       "      <th>18</th>\n",
       "      <td>2018</td>\n",
       "      <td>Fiction</td>\n",
       "      <td>4.738095</td>\n",
       "      <td>12710.428571</td>\n",
       "    </tr>\n",
       "    <tr>\n",
       "      <th>19</th>\n",
       "      <td>2018</td>\n",
       "      <td>Non Fiction</td>\n",
       "      <td>4.617241</td>\n",
       "      <td>14813.862069</td>\n",
       "    </tr>\n",
       "    <tr>\n",
       "      <th>20</th>\n",
       "      <td>2019</td>\n",
       "      <td>Fiction</td>\n",
       "      <td>4.820000</td>\n",
       "      <td>18507.150000</td>\n",
       "    </tr>\n",
       "    <tr>\n",
       "      <th>21</th>\n",
       "      <td>2019</td>\n",
       "      <td>Non Fiction</td>\n",
       "      <td>4.686667</td>\n",
       "      <td>14159.133333</td>\n",
       "    </tr>\n",
       "  </tbody>\n",
       "</table>\n",
       "</div>"
      ],
      "text/plain": [
       "    Year        Genre  User Rating       Reviews\n",
       "0   2009      Fiction     4.591667   6534.333333\n",
       "1   2009  Non Fiction     4.576923   3026.230769\n",
       "2   2010      Fiction     4.615000   8409.250000\n",
       "3   2010  Non Fiction     4.520000   3526.533333\n",
       "4   2011      Fiction     4.619048  10335.285714\n",
       "5   2011  Non Fiction     4.513793   6482.758621\n",
       "6   2012      Fiction     4.495238  19896.238095\n",
       "7   2012  Non Fiction     4.558621   8162.931034\n",
       "8   2013      Fiction     4.545833  19986.833333\n",
       "9   2013  Non Fiction     4.561538   6739.346154\n",
       "10  2014      Fiction     4.631034  19382.862069\n",
       "11  2014  Non Fiction     4.609524  10994.952381\n",
       "12  2015      Fiction     4.652941  23706.117647\n",
       "13  2015  Non Fiction     4.645455   9353.484848\n",
       "14  2016      Fiction     4.715789  19563.263158\n",
       "15  2016  Non Fiction     4.654839  10906.387097\n",
       "16  2017      Fiction     4.737500  14611.833333\n",
       "17  2017  Non Fiction     4.588462  11297.538462\n",
       "18  2018      Fiction     4.738095  12710.428571\n",
       "19  2018  Non Fiction     4.617241  14813.862069\n",
       "20  2019      Fiction     4.820000  18507.150000\n",
       "21  2019  Non Fiction     4.686667  14159.133333"
      ]
     },
     "execution_count": 764,
     "metadata": {},
     "output_type": "execute_result"
    }
   ],
   "source": [
    "#How has the popularity of Fiction versus Non-Fiction changed over the years in terms of average ratings and reviews?\n",
    "\n",
    "database.groupby(['Year','Genre'])[['User Rating','Reviews']].mean().reset_index()"
   ]
  },
  {
   "cell_type": "markdown",
   "id": "f53cd0ef",
   "metadata": {},
   "source": [
    "# 10. Outlier Detection:"
   ]
  },
  {
   "cell_type": "code",
   "execution_count": 765,
   "id": "ced36c39",
   "metadata": {},
   "outputs": [
    {
     "data": {
      "text/plain": [
       "<Axes: >"
      ]
     },
     "execution_count": 765,
     "metadata": {},
     "output_type": "execute_result"
    },
    {
     "data": {
      "image/png": "[encoded data removed]",
      "text/plain": [
       "<Figure size 640x480 with 1 Axes>"
      ]
     },
     "metadata": {},
     "output_type": "display_data"
    }
   ],
   "source": [
    "#Are there any books that are outliers in terms of price, rating, or reviews?\n",
    "sns.boxplot(database)"
   ]
  },
  {
   "cell_type": "code",
   "execution_count": 767,
   "id": "a4d56edc",
   "metadata": {},
   "outputs": [],
   "source": [
    "#iqr for price\n",
    "q1_price= database['Price'].quantile(0.25)\n",
    "q3_price= database['Price'].quantile(0.75)\n",
    "iqr_price = q3_price-q1_price\n",
    "\n",
    "#iqr for price\n",
    "q1_rating = database['User Rating'].quantile(0.25)\n",
    "q3_rating = database['User Rating'].quantile(0.75)\n",
    "iqr_rating=q3_rating-q1_rating\n",
    "\n",
    "# iqr for review\n",
    "q1_review = database['Reviews'].quantile(0.25)\n",
    "q3_review = database['Reviews'].quantile(0.75)\n",
    "iqr_review= q3_review-q1_review\n"
   ]
  },
  {
   "cell_type": "code",
   "execution_count": 768,
   "id": "cf56a70e",
   "metadata": {},
   "outputs": [],
   "source": [
    "#Define Lower and Upper Bounds for Outliers\n",
    "\n",
    "# Price outlier bounds\n",
    "lower_price = q1_price-1.5*iqr_price\n",
    "upper_price= q3_price+1.5*iqr_price\n",
    "\n",
    "# rating outlier bounds\n",
    "\n",
    "lower_rating = q1_rating-1.5*iqr_rating\n",
    "upper_rating = q3_rating+1.5*iqr_rating\n",
    "\n",
    "# review outlier bounds\n",
    "\n",
    "lower_review = q1_review-1.5*iqr_review\n",
    "upper_review = q3_review+1.5*iqr_review\n"
   ]
  },
  {
   "cell_type": "code",
   "execution_count": 771,
   "id": "e244d8c6",
   "metadata": {},
   "outputs": [
    {
     "name": "stdout",
     "output_type": "stream",
     "text": [
      "Price Outliers:\n",
      "                                                   Name  Price  User Rating  \\\n",
      "6    A Game of Thrones / A Clash of Kings / A Storm...     30          4.7   \n",
      "12                             A Stolen Life: A Memoir     32          4.6   \n",
      "69   Diagnostic and Statistical Manual of Mental Di...    105          4.5   \n",
      "70   Diagnostic and Statistical Manual of Mental Di...    105          4.5   \n",
      "108  Fifty Shades Trilogy (Fifty Shades of Grey / F...     32          4.5   \n",
      "151                           Hamilton: The Revolution     54          4.9   \n",
      "153  Harry Potter and the Chamber of Secrets: The I...     30          4.9   \n",
      "156  Harry Potter and the Prisoner of Azkaban: The ...     30          4.9   \n",
      "159         Harry Potter Paperback Box Set (Books 1-7)     52          4.8   \n",
      "271  Publication Manual of the American Psychologic...     46          4.5   \n",
      "272  Publication Manual of the American Psychologic...     46          4.5   \n",
      "273  Publication Manual of the American Psychologic...     46          4.5   \n",
      "274  Publication Manual of the American Psychologic...     46          4.5   \n",
      "275  Publication Manual of the American Psychologic...     46          4.5   \n",
      "276  Publication Manual of the American Psychologic...     46          4.5   \n",
      "277  Publication Manual of the American Psychologic...     46          4.5   \n",
      "278  Publication Manual of the American Psychologic...     46          4.5   \n",
      "279  Publication Manual of the American Psychologic...     46          4.5   \n",
      "280  Publication Manual of the American Psychologic...     46          4.5   \n",
      "338                                      The Alchemist     39          4.7   \n",
      "346  The Book of Basketball: The NBA According to T...     53          4.7   \n",
      "410             The Hunger Games Trilogy Boxed Set (1)     30          4.8   \n",
      "411             The Hunger Games Trilogy Boxed Set (1)     30          4.8   \n",
      "439                       The Official SAT Study Guide     40          4.4   \n",
      "440                       The Official SAT Study Guide     40          4.4   \n",
      "441                       The Official SAT Study Guide     40          4.4   \n",
      "442                       The Official SAT Study Guide     40          4.4   \n",
      "443                       The Official SAT Study Guide     40          4.4   \n",
      "444  The Official SAT Study Guide, 2016 Edition (Of...     36          4.3   \n",
      "473                       The Twilight Saga Collection     82          4.7   \n",
      "524                                           Watchmen     42          4.8   \n",
      "\n",
      "     Reviews  \n",
      "6      19735  \n",
      "12      4149  \n",
      "69      6679  \n",
      "70      6679  \n",
      "108    13964  \n",
      "151     5867  \n",
      "153    19622  \n",
      "156     3146  \n",
      "159    13471  \n",
      "271     8580  \n",
      "272     8580  \n",
      "273     8580  \n",
      "274     8580  \n",
      "275     8580  \n",
      "276     8580  \n",
      "277     8580  \n",
      "278     8580  \n",
      "279     8580  \n",
      "280     8580  \n",
      "338    35799  \n",
      "346      858  \n",
      "410    16949  \n",
      "411    16949  \n",
      "439     1201  \n",
      "440     1201  \n",
      "441     1201  \n",
      "442     1201  \n",
      "443     1201  \n",
      "444      807  \n",
      "473     3801  \n",
      "524     3829  \n",
      "\n",
      "Rating Outliers:\n",
      "                                                   Name  Price  User Rating  \\\n",
      "22                                           Allegiant     13          3.9   \n",
      "106  Fifty Shades of Grey: Book One of the Fifty Sh...     14          3.8   \n",
      "107  Fifty Shades of Grey: Book One of the Fifty Sh...     14          3.8   \n",
      "132                         Go Set a Watchman: A Novel     19          3.6   \n",
      "135                                          Gone Girl     10          4.0   \n",
      "136                                          Gone Girl     10          4.0   \n",
      "137                                          Gone Girl      9          4.0   \n",
      "154  Harry Potter and the Cursed Child, Parts 1 & 2...     12          4.0   \n",
      "304                                StrengthsFinder 2.0     17          4.0   \n",
      "305                                StrengthsFinder 2.0     17          4.0   \n",
      "306                                StrengthsFinder 2.0     17          4.0   \n",
      "307                                StrengthsFinder 2.0     17          4.0   \n",
      "308                                StrengthsFinder 2.0     17          4.0   \n",
      "309                                StrengthsFinder 2.0     17          4.0   \n",
      "310                                StrengthsFinder 2.0     17          4.0   \n",
      "311                                StrengthsFinder 2.0     17          4.0   \n",
      "312                                StrengthsFinder 2.0     17          4.0   \n",
      "353                                 The Casual Vacancy     12          3.3   \n",
      "364                       The Elegance of the Hedgehog     11          4.0   \n",
      "392  The Goldfinch: A Novel (Pulitzer Prize for Fic...     20          3.9   \n",
      "393  The Goldfinch: A Novel (Pulitzer Prize for Fic...     20          3.9   \n",
      "\n",
      "     Reviews  \n",
      "22      6310  \n",
      "106    47265  \n",
      "107    47265  \n",
      "132    14982  \n",
      "135    57271  \n",
      "136    57271  \n",
      "137    57271  \n",
      "154    23973  \n",
      "304     5069  \n",
      "305     5069  \n",
      "306     5069  \n",
      "307     5069  \n",
      "308     5069  \n",
      "309     5069  \n",
      "310     5069  \n",
      "311     5069  \n",
      "312     5069  \n",
      "353     9372  \n",
      "364     1859  \n",
      "392    33844  \n",
      "393    33844  \n",
      "\n",
      "Reviews Outliers:\n",
      "                                                   Name  Price  User Rating  \\\n",
      "32                                            Becoming     11          4.8   \n",
      "33                                            Becoming     11          4.8   \n",
      "106  Fifty Shades of Grey: Book One of the Fifty Sh...     14          3.8   \n",
      "107  Fifty Shades of Grey: Book One of the Fifty Sh...     14          3.8   \n",
      "135                                          Gone Girl     10          4.0   \n",
      "136                                          Gone Girl     10          4.0   \n",
      "137                                          Gone Girl      9          4.0   \n",
      "365                             The Fault in Our Stars     13          4.7   \n",
      "366                             The Fault in Our Stars     13          4.7   \n",
      "367                             The Fault in Our Stars      7          4.7   \n",
      "368                             The Fault in Our Stars     13          4.7   \n",
      "382                              The Girl on the Train     18          4.1   \n",
      "383                              The Girl on the Train      7          4.1   \n",
      "433                                        The Martian      9          4.7   \n",
      "437                           The Nightingale: A Novel     11          4.8   \n",
      "438                           The Nightingale: A Novel     11          4.8   \n",
      "534                            Where the Crawdads Sing     15          4.8   \n",
      "\n",
      "     Reviews  \n",
      "32     61133  \n",
      "33     61133  \n",
      "106    47265  \n",
      "107    47265  \n",
      "135    57271  \n",
      "136    57271  \n",
      "137    57271  \n",
      "365    50482  \n",
      "366    50482  \n",
      "367    50482  \n",
      "368    50482  \n",
      "382    79446  \n",
      "383    79446  \n",
      "433    39459  \n",
      "437    49288  \n",
      "438    49288  \n",
      "534    87841  \n"
     ]
    }
   ],
   "source": [
    "# Now, we can filter the DataFrame to find books that are outliers in terms of price, user rating, or reviews.\n",
    "\n",
    "price_outliers = database[(database['Price'] < lower_price) | (database['Price'] > upper_price)]\n",
    "rating_outlier = database[(database['User Rating']<lower_rating) | (database['User Rating']>upper_rating)]\n",
    "review_outlier = database[(database['Reviews']<lower_review) | (database['Reviews']>upper_review)]\n",
    "\n",
    "# Display outliers\n",
    "print(\"Price Outliers:\\n\", price_outliers[['Name', 'Price', 'User Rating', 'Reviews']])\n",
    "print(\"\\nRating Outliers:\\n\", rating_outlier[['Name', 'Price', 'User Rating', 'Reviews']])\n",
    "print(\"\\nReviews Outliers:\\n\", review_outlier[['Name', 'Price', 'User Rating', 'Reviews']])"
   ]
  },
  {
   "cell_type": "code",
   "execution_count": null,
   "id": "688cdcf8",
   "metadata": {},
   "outputs": [],
   "source": []
  },
  {
   "cell_type": "code",
   "execution_count": null,
   "id": "123560c1",
   "metadata": {},
   "outputs": [],
   "source": []
  },
  {
   "cell_type": "code",
   "execution_count": 773,
   "id": "a1760ce1",
   "metadata": {},
   "outputs": [],
   "source": [
    "#How do these outliers compare to the rest of the dataset?\n",
    "\n",
    "# Find non-outliers in Price\n",
    "non_price_outliers = database[(database['Price'] >= lower_price) & (database['Price'] <= upper_price)]\n",
    "\n",
    "# Find non-outliers in User Rating\n",
    "non_rating_outliers = database[(database['User Rating'] >= lower_rating) & (database['User Rating'] <= upper_rating)]\n",
    "\n",
    "# Find non-outliers in Reviews\n",
    "non_reviews_outliers = database[(database['Reviews'] >= lower_review) & (database['Reviews'] <= upper_review)]\n",
    "\n"
   ]
  },
  {
   "cell_type": "code",
   "execution_count": 774,
   "id": "be64ecc1",
   "metadata": {},
   "outputs": [
    {
     "name": "stdout",
     "output_type": "stream",
     "text": [
      "Price Outlier Stats:\n",
      " count     31.000000\n",
      "mean      46.516129\n",
      "std       18.633073\n",
      "min       30.000000\n",
      "25%       37.500000\n",
      "50%       46.000000\n",
      "75%       46.000000\n",
      "max      105.000000\n",
      "Name: Price, dtype: float64\n",
      "\n",
      "Non-Price Outlier Stats:\n",
      " count    519.000000\n",
      "mean      11.104046\n",
      "std        5.802140\n",
      "min        0.000000\n",
      "25%        7.000000\n",
      "50%       10.000000\n",
      "75%       15.000000\n",
      "max       28.000000\n",
      "Name: Price, dtype: float64\n"
     ]
    }
   ],
   "source": [
    "# Compare the statistics for Price between outliers and non-outliers\n",
    "price_outlier_stats = price_outliers['Price'].describe()\n",
    "non_price_outlier_stats = non_price_outliers['Price'].describe()\n",
    "\n",
    "print(\"Price Outlier Stats:\\n\", price_outlier_stats)\n",
    "print(\"\\nNon-Price Outlier Stats:\\n\", non_price_outlier_stats)"
   ]
  },
  {
   "cell_type": "code",
   "execution_count": 778,
   "id": "67c3f780",
   "metadata": {},
   "outputs": [
    {
     "name": "stdout",
     "output_type": "stream",
     "text": [
      "\n",
      "User Rating Outlier Stats:\n",
      " count    21.000000\n",
      "mean      3.914286\n",
      "std       0.174028\n",
      "min       3.300000\n",
      "25%       3.900000\n",
      "50%       4.000000\n",
      "75%       4.000000\n",
      "max       4.000000\n",
      "Name: User Rating, dtype: float64\n",
      "\n",
      "Non-User Rating Outlier Stats:\n",
      " count    529.000000\n",
      "mean       4.646314\n",
      "std        0.178670\n",
      "min        4.100000\n",
      "25%        4.500000\n",
      "50%        4.700000\n",
      "75%        4.800000\n",
      "max        4.900000\n",
      "Name: User Rating, dtype: float64\n",
      "\n",
      "Reviews Outlier Stats:\n",
      " count       17.000000\n",
      "mean     57370.882353\n",
      "std      13174.247407\n",
      "min      39459.000000\n",
      "25%      49288.000000\n",
      "50%      50482.000000\n",
      "75%      61133.000000\n",
      "max      87841.000000\n",
      "Name: Reviews, dtype: float64\n",
      "\n",
      "Non-Reviews Outlier Stats:\n",
      " count      533.000000\n",
      "mean     10504.690432\n",
      "std       8293.348208\n",
      "min         37.000000\n",
      "25%       3837.000000\n",
      "50%       7932.000000\n",
      "75%      15779.000000\n",
      "max      36348.000000\n",
      "Name: Reviews, dtype: float64\n"
     ]
    }
   ],
   "source": [
    "# Compare the statistics for User Rating between outliers and non-outliers\n",
    "rating_outlier_stats = rating_outlier['User Rating'].describe()\n",
    "non_rating_outlier_stats = non_rating_outliers['User Rating'].describe()\n",
    "\n",
    "print(\"\\nUser Rating Outlier Stats:\\n\", rating_outlier_stats)\n",
    "print(\"\\nNon-User Rating Outlier Stats:\\n\", non_rating_outlier_stats)\n",
    "\n",
    "# Compare the statistics for Reviews between outliers and non-outliers\n",
    "reviews_outlier_stats = review_outlier['Reviews'].describe()\n",
    "non_reviews_outlier_stats = non_reviews_outliers['Reviews'].describe()\n",
    "\n",
    "print(\"\\nReviews Outlier Stats:\\n\", reviews_outlier_stats)\n",
    "print(\"\\nNon-Reviews Outlier Stats:\\n\", non_reviews_outlier_stats)"
   ]
  },
  {
   "cell_type": "code",
   "execution_count": 787,
   "id": "4094671c",
   "metadata": {},
   "outputs": [
    {
     "data": {
      "text/html": [
       "<div>\n",
       "<style scoped>\n",
       "    .dataframe tbody tr th:only-of-type {\n",
       "        vertical-align: middle;\n",
       "    }\n",
       "\n",
       "    .dataframe tbody tr th {\n",
       "        vertical-align: top;\n",
       "    }\n",
       "\n",
       "    .dataframe thead th {\n",
       "        text-align: right;\n",
       "    }\n",
       "</style>\n",
       "<table border=\"1\" class=\"dataframe\">\n",
       "  <thead>\n",
       "    <tr style=\"text-align: right;\">\n",
       "      <th></th>\n",
       "      <th>Name</th>\n",
       "      <th>Author</th>\n",
       "      <th>User Rating</th>\n",
       "      <th>Reviews</th>\n",
       "      <th>Price</th>\n",
       "      <th>Year</th>\n",
       "      <th>Genre</th>\n",
       "      <th>Encoded_gen</th>\n",
       "    </tr>\n",
       "  </thead>\n",
       "  <tbody>\n",
       "    <tr>\n",
       "      <th>0</th>\n",
       "      <td>10-Day Green Smoothie Cleanse</td>\n",
       "      <td>JJ Smith</td>\n",
       "      <td>4.7</td>\n",
       "      <td>17350</td>\n",
       "      <td>8</td>\n",
       "      <td>2016</td>\n",
       "      <td>Non Fiction</td>\n",
       "      <td>1</td>\n",
       "    </tr>\n",
       "    <tr>\n",
       "      <th>1</th>\n",
       "      <td>11/22/63: A Novel</td>\n",
       "      <td>Stephen King</td>\n",
       "      <td>4.6</td>\n",
       "      <td>2052</td>\n",
       "      <td>22</td>\n",
       "      <td>2011</td>\n",
       "      <td>Fiction</td>\n",
       "      <td>0</td>\n",
       "    </tr>\n",
       "    <tr>\n",
       "      <th>2</th>\n",
       "      <td>12 Rules for Life: An Antidote to Chaos</td>\n",
       "      <td>Jordan B. Peterson</td>\n",
       "      <td>4.7</td>\n",
       "      <td>18979</td>\n",
       "      <td>15</td>\n",
       "      <td>2018</td>\n",
       "      <td>Non Fiction</td>\n",
       "      <td>1</td>\n",
       "    </tr>\n",
       "    <tr>\n",
       "      <th>3</th>\n",
       "      <td>1984 (Signet Classics)</td>\n",
       "      <td>George Orwell</td>\n",
       "      <td>4.7</td>\n",
       "      <td>21424</td>\n",
       "      <td>6</td>\n",
       "      <td>2017</td>\n",
       "      <td>Fiction</td>\n",
       "      <td>0</td>\n",
       "    </tr>\n",
       "    <tr>\n",
       "      <th>4</th>\n",
       "      <td>5,000 Awesome Facts (About Everything!) (Natio...</td>\n",
       "      <td>National Geographic Kids</td>\n",
       "      <td>4.8</td>\n",
       "      <td>7665</td>\n",
       "      <td>12</td>\n",
       "      <td>2019</td>\n",
       "      <td>Non Fiction</td>\n",
       "      <td>1</td>\n",
       "    </tr>\n",
       "  </tbody>\n",
       "</table>\n",
       "</div>"
      ],
      "text/plain": [
       "                                                Name  \\\n",
       "0                      10-Day Green Smoothie Cleanse   \n",
       "1                                  11/22/63: A Novel   \n",
       "2            12 Rules for Life: An Antidote to Chaos   \n",
       "3                             1984 (Signet Classics)   \n",
       "4  5,000 Awesome Facts (About Everything!) (Natio...   \n",
       "\n",
       "                     Author  User Rating  Reviews  Price  Year        Genre  \\\n",
       "0                  JJ Smith          4.7    17350      8  2016  Non Fiction   \n",
       "1              Stephen King          4.6     2052     22  2011      Fiction   \n",
       "2        Jordan B. Peterson          4.7    18979     15  2018  Non Fiction   \n",
       "3             George Orwell          4.7    21424      6  2017      Fiction   \n",
       "4  National Geographic Kids          4.8     7665     12  2019  Non Fiction   \n",
       "\n",
       "   Encoded_gen  \n",
       "0            1  \n",
       "1            0  \n",
       "2            1  \n",
       "3            0  \n",
       "4            1  "
      ]
     },
     "execution_count": 787,
     "metadata": {},
     "output_type": "execute_result"
    }
   ],
   "source": [
    "database.head()"
   ]
  },
  {
   "cell_type": "markdown",
   "id": "3c2af6c7",
   "metadata": {},
   "source": [
    "# Machine Learning model"
   ]
  },
  {
   "cell_type": "code",
   "execution_count": 780,
   "id": "95ca89b7",
   "metadata": {},
   "outputs": [],
   "source": [
    "from sklearn.preprocessing import LabelEncoder"
   ]
  },
  {
   "cell_type": "code",
   "execution_count": 782,
   "id": "5b34e904",
   "metadata": {},
   "outputs": [],
   "source": [
    "le = LabelEncoder()\n",
    "arr= le.fit_transform(database['Genre'])"
   ]
  },
  {
   "cell_type": "code",
   "execution_count": 786,
   "id": "afd3478f",
   "metadata": {},
   "outputs": [],
   "source": [
    "database['Encoded_gen']=pd.DataFrame(arr,columns=['Genre'])"
   ]
  },
  {
   "cell_type": "code",
   "execution_count": 788,
   "id": "de872bb7",
   "metadata": {},
   "outputs": [],
   "source": [
    "x = database[['User Rating','Reviews','Price','Year']]\n",
    "y = database['Encoded_gen']"
   ]
  },
  {
   "cell_type": "code",
   "execution_count": 823,
   "id": "4ec8338c",
   "metadata": {},
   "outputs": [],
   "source": [
    "from sklearn.preprocessing import StandardScaler"
   ]
  },
  {
   "cell_type": "code",
   "execution_count": 825,
   "id": "e0e5394f",
   "metadata": {},
   "outputs": [],
   "source": [
    "ss=StandardScaler()\n",
    "ar = ss.fit_transform(x)"
   ]
  },
  {
   "cell_type": "code",
   "execution_count": 833,
   "id": "b33dd5f4",
   "metadata": {},
   "outputs": [],
   "source": [
    "x = pd.DataFrame(ar,columns=x.columns)"
   ]
  },
  {
   "cell_type": "code",
   "execution_count": null,
   "id": "3873b510",
   "metadata": {},
   "outputs": [],
   "source": []
  },
  {
   "cell_type": "code",
   "execution_count": 834,
   "id": "2cd3f76d",
   "metadata": {},
   "outputs": [],
   "source": [
    "from sklearn.model_selection import train_test_split"
   ]
  },
  {
   "cell_type": "code",
   "execution_count": 891,
   "id": "a5f7e4f8",
   "metadata": {},
   "outputs": [],
   "source": [
    "x_train,x_test,y_train,y_test= train_test_split(x,y,test_size=0.30,random_state=40)"
   ]
  },
  {
   "cell_type": "code",
   "execution_count": 892,
   "id": "ac05aead",
   "metadata": {},
   "outputs": [],
   "source": [
    "from sklearn.linear_model import LogisticRegression"
   ]
  },
  {
   "cell_type": "code",
   "execution_count": 893,
   "id": "bb48d773",
   "metadata": {},
   "outputs": [
    {
     "data": {
      "text/html": [
       "<style>#sk-container-id-16 {color: black;}#sk-container-id-16 pre{padding: 0;}#sk-container-id-16 div.sk-toggleable {background-color: white;}#sk-container-id-16 label.sk-toggleable__label {cursor: pointer;display: block;width: 100%;margin-bottom: 0;padding: 0.3em;box-sizing: border-box;text-align: center;}#sk-container-id-16 label.sk-toggleable__label-arrow:before {content: \"▸\";float: left;margin-right: 0.25em;color: #696969;}#sk-container-id-16 label.sk-toggleable__label-arrow:hover:before {color: black;}#sk-container-id-16 div.sk-estimator:hover label.sk-toggleable__label-arrow:before {color: black;}#sk-container-id-16 div.sk-toggleable__content {max-height: 0;max-width: 0;overflow: hidden;text-align: left;background-color: #f0f8ff;}#sk-container-id-16 div.sk-toggleable__content pre {margin: 0.2em;color: black;border-radius: 0.25em;background-color: #f0f8ff;}#sk-container-id-16 input.sk-toggleable__control:checked~div.sk-toggleable__content {max-height: 200px;max-width: 100%;overflow: auto;}#sk-container-id-16 input.sk-toggleable__control:checked~label.sk-toggleable__label-arrow:before {content: \"▾\";}#sk-container-id-16 div.sk-estimator input.sk-toggleable__control:checked~label.sk-toggleable__label {background-color: #d4ebff;}#sk-container-id-16 div.sk-label input.sk-toggleable__control:checked~label.sk-toggleable__label {background-color: #d4ebff;}#sk-container-id-16 input.sk-hidden--visually {border: 0;clip: rect(1px 1px 1px 1px);clip: rect(1px, 1px, 1px, 1px);height: 1px;margin: -1px;overflow: hidden;padding: 0;position: absolute;width: 1px;}#sk-container-id-16 div.sk-estimator {font-family: monospace;background-color: #f0f8ff;border: 1px dotted black;border-radius: 0.25em;box-sizing: border-box;margin-bottom: 0.5em;}#sk-container-id-16 div.sk-estimator:hover {background-color: #d4ebff;}#sk-container-id-16 div.sk-parallel-item::after {content: \"\";width: 100%;border-bottom: 1px solid gray;flex-grow: 1;}#sk-container-id-16 div.sk-label:hover label.sk-toggleable__label {background-color: #d4ebff;}#sk-container-id-16 div.sk-serial::before {content: \"\";position: absolute;border-left: 1px solid gray;box-sizing: border-box;top: 0;bottom: 0;left: 50%;z-index: 0;}#sk-container-id-16 div.sk-serial {display: flex;flex-direction: column;align-items: center;background-color: white;padding-right: 0.2em;padding-left: 0.2em;position: relative;}#sk-container-id-16 div.sk-item {position: relative;z-index: 1;}#sk-container-id-16 div.sk-parallel {display: flex;align-items: stretch;justify-content: center;background-color: white;position: relative;}#sk-container-id-16 div.sk-item::before, #sk-container-id-16 div.sk-parallel-item::before {content: \"\";position: absolute;border-left: 1px solid gray;box-sizing: border-box;top: 0;bottom: 0;left: 50%;z-index: -1;}#sk-container-id-16 div.sk-parallel-item {display: flex;flex-direction: column;z-index: 1;position: relative;background-color: white;}#sk-container-id-16 div.sk-parallel-item:first-child::after {align-self: flex-end;width: 50%;}#sk-container-id-16 div.sk-parallel-item:last-child::after {align-self: flex-start;width: 50%;}#sk-container-id-16 div.sk-parallel-item:only-child::after {width: 0;}#sk-container-id-16 div.sk-dashed-wrapped {border: 1px dashed gray;margin: 0 0.4em 0.5em 0.4em;box-sizing: border-box;padding-bottom: 0.4em;background-color: white;}#sk-container-id-16 div.sk-label label {font-family: monospace;font-weight: bold;display: inline-block;line-height: 1.2em;}#sk-container-id-16 div.sk-label-container {text-align: center;}#sk-container-id-16 div.sk-container {/* jupyter's `normalize.less` sets `[hidden] { display: none; }` but bootstrap.min.css set `[hidden] { display: none !important; }` so we also need the `!important` here to be able to override the default hidden behavior on the sphinx rendered scikit-learn.org. See: https://github.com/scikit-learn/scikit-learn/issues/21755 */display: inline-block !important;position: relative;}#sk-container-id-16 div.sk-text-repr-fallback {display: none;}</style><div id=\"sk-container-id-16\" class=\"sk-top-container\"><div class=\"sk-text-repr-fallback\"><pre>LogisticRegression()</pre><b>In a Jupyter environment, please rerun this cell to show the HTML representation or trust the notebook. <br />On GitHub, the HTML representation is unable to render, please try loading this page with nbviewer.org.</b></div><div class=\"sk-container\" hidden><div class=\"sk-item\"><div class=\"sk-estimator sk-toggleable\"><input class=\"sk-toggleable__control sk-hidden--visually\" id=\"sk-estimator-id-16\" type=\"checkbox\" checked><label for=\"sk-estimator-id-16\" class=\"sk-toggleable__label sk-toggleable__label-arrow\">LogisticRegression</label><div class=\"sk-toggleable__content\"><pre>LogisticRegression()</pre></div></div></div></div></div>"
      ],
      "text/plain": [
       "LogisticRegression()"
      ]
     },
     "execution_count": 893,
     "metadata": {},
     "output_type": "execute_result"
    }
   ],
   "source": [
    "lr = LogisticRegression()\n",
    "lr.fit(x_test,y_test)"
   ]
  },
  {
   "cell_type": "code",
   "execution_count": 894,
   "id": "e7160217",
   "metadata": {},
   "outputs": [
    {
     "data": {
      "text/plain": [
       "69.6969696969697"
      ]
     },
     "execution_count": 894,
     "metadata": {},
     "output_type": "execute_result"
    }
   ],
   "source": [
    "lr.score(x_test,y_test)*100"
   ]
  },
  {
   "cell_type": "code",
   "execution_count": 895,
   "id": "b41ab296",
   "metadata": {},
   "outputs": [
    {
     "data": {
      "text/plain": [
       "65.1948051948052"
      ]
     },
     "execution_count": 895,
     "metadata": {},
     "output_type": "execute_result"
    }
   ],
   "source": [
    "lr.score(x_train,y_train)*100"
   ]
  },
  {
   "cell_type": "code",
   "execution_count": 840,
   "id": "9a9b9fe7",
   "metadata": {},
   "outputs": [],
   "source": [
    "y_pred=lr.predict(x_test)"
   ]
  },
  {
   "cell_type": "code",
   "execution_count": 841,
   "id": "8ea14b08",
   "metadata": {},
   "outputs": [],
   "source": [
    "from sklearn.metrics import confusion_matrix,precision_score,recall_score,f1_score"
   ]
  },
  {
   "cell_type": "code",
   "execution_count": 842,
   "id": "4d5feecf",
   "metadata": {},
   "outputs": [],
   "source": [
    "cm = confusion_matrix(y_test,y_pred)"
   ]
  },
  {
   "cell_type": "code",
   "execution_count": 843,
   "id": "fb4ff623",
   "metadata": {},
   "outputs": [
    {
     "data": {
      "text/plain": [
       "array([[39, 35],\n",
       "       [13, 78]])"
      ]
     },
     "execution_count": 843,
     "metadata": {},
     "output_type": "execute_result"
    }
   ],
   "source": [
    "cm"
   ]
  },
  {
   "cell_type": "code",
   "execution_count": 844,
   "id": "1ad90fb7",
   "metadata": {},
   "outputs": [
    {
     "data": {
      "text/plain": [
       "0.6902654867256637"
      ]
     },
     "execution_count": 844,
     "metadata": {},
     "output_type": "execute_result"
    }
   ],
   "source": [
    "precision_score(y_test,y_pred)"
   ]
  },
  {
   "cell_type": "code",
   "execution_count": 845,
   "id": "49ca1080",
   "metadata": {},
   "outputs": [
    {
     "data": {
      "text/plain": [
       "0.8571428571428571"
      ]
     },
     "execution_count": 845,
     "metadata": {},
     "output_type": "execute_result"
    }
   ],
   "source": [
    "recall_score(y_test,y_pred)"
   ]
  },
  {
   "cell_type": "code",
   "execution_count": 846,
   "id": "2b5fe2b1",
   "metadata": {},
   "outputs": [
    {
     "data": {
      "text/plain": [
       "0.7647058823529412"
      ]
     },
     "execution_count": 846,
     "metadata": {},
     "output_type": "execute_result"
    }
   ],
   "source": [
    "f1_score(y_test,y_pred)"
   ]
  },
  {
   "cell_type": "code",
   "execution_count": 822,
   "id": "74aba32c",
   "metadata": {},
   "outputs": [
    {
     "data": {
      "text/plain": [
       "<Axes: >"
      ]
     },
     "execution_count": 822,
     "metadata": {},
     "output_type": "execute_result"
    },
    {
     "data": {
      "image/png": "[encoded data removed]",
      "text/plain": [
       "<Figure size 640x480 with 2 Axes>"
      ]
     },
     "metadata": {},
     "output_type": "display_data"
    }
   ],
   "source": [
    "sns.heatmap(cm,annot=True)"
   ]
  },
  {
   "cell_type": "code",
   "execution_count": 897,
   "id": "e7e8ab44",
   "metadata": {},
   "outputs": [
    {
     "name": "stdout",
     "output_type": "stream",
     "text": [
      "63.653846153846146 76.66666666666667 1\n",
      "59.61538461538461 76.66666666666667 2\n",
      "54.42307692307692 76.66666666666667 3\n",
      "66.73076923076923 76.66666666666667 4\n",
      "58.07692307692308 70.0 5\n",
      "50.96153846153846 70.0 6\n",
      "51.92307692307693 73.33333333333333 7\n",
      "67.6923076923077 76.66666666666667 8\n",
      "63.653846153846146 60.0 9\n",
      "63.26923076923077 60.0 10\n",
      "55.00000000000001 70.0 11\n",
      "62.88461538461539 53.333333333333336 12\n",
      "58.65384615384615 66.66666666666666 13\n",
      "63.07692307692307 76.66666666666667 14\n",
      "60.57692307692307 73.33333333333333 15\n",
      "62.11538461538461 73.33333333333333 16\n",
      "55.38461538461539 73.33333333333333 17\n",
      "65.57692307692308 70.0 18\n",
      "65.57692307692308 73.33333333333333 19\n",
      "60.76923076923077 76.66666666666667 20\n",
      "66.15384615384615 80.0 21\n",
      "50.57692307692307 63.33333333333333 22\n",
      "63.653846153846146 86.66666666666667 23\n",
      "64.23076923076924 73.33333333333333 24\n",
      "63.07692307692307 73.33333333333333 25\n",
      "65.57692307692308 70.0 26\n",
      "63.46153846153846 73.33333333333333 27\n",
      "67.6923076923077 73.33333333333333 28\n",
      "69.61538461538461 70.0 29\n",
      "54.03846153846153 60.0 30\n",
      "54.42307692307692 76.66666666666667 31\n",
      "63.07692307692307 60.0 32\n",
      "63.653846153846146 76.66666666666667 33\n",
      "67.88461538461539 80.0 34\n",
      "65.1923076923077 70.0 35\n",
      "66.53846153846153 76.66666666666667 36\n",
      "63.07692307692307 83.33333333333334 37\n",
      "63.653846153846146 73.33333333333333 38\n",
      "63.07692307692307 80.0 39\n",
      "65.96153846153847 86.66666666666667 40\n",
      "66.92307692307692 76.66666666666667 41\n",
      "50.57692307692307 76.66666666666667 42\n",
      "59.80769230769231 76.66666666666667 43\n",
      "62.30769230769231 70.0 44\n",
      "65.76923076923077 66.66666666666666 45\n",
      "55.96153846153846 76.66666666666667 46\n",
      "58.269230769230774 56.666666666666664 47\n",
      "67.5 83.33333333333334 48\n",
      "64.42307692307693 86.66666666666667 49\n",
      "55.57692307692308 76.66666666666667 50\n",
      "64.61538461538461 76.66666666666667 51\n",
      "62.88461538461539 83.33333333333334 52\n",
      "54.230769230769226 83.33333333333334 53\n",
      "66.34615384615384 66.66666666666666 54\n",
      "65.96153846153847 66.66666666666666 55\n",
      "45.76923076923077 63.33333333333333 56\n",
      "57.692307692307686 70.0 57\n",
      "60.38461538461538 63.33333333333333 58\n",
      "62.11538461538461 60.0 59\n",
      "63.84615384615384 76.66666666666667 60\n",
      "61.346153846153854 80.0 61\n",
      "51.73076923076923 66.66666666666666 62\n",
      "46.34615384615385 76.66666666666667 63\n",
      "62.30769230769231 73.33333333333333 64\n",
      "66.53846153846153 80.0 65\n",
      "60.0 70.0 66\n",
      "63.26923076923077 70.0 67\n",
      "65.76923076923077 80.0 68\n",
      "64.61538461538461 83.33333333333334 69\n",
      "63.84615384615384 80.0 70\n",
      "64.61538461538461 66.66666666666666 71\n",
      "59.03846153846154 70.0 72\n",
      "66.15384615384615 76.66666666666667 73\n",
      "65.76923076923077 76.66666666666667 74\n",
      "63.26923076923077 80.0 75\n",
      "66.53846153846153 93.33333333333333 76\n",
      "59.80769230769231 76.66666666666667 77\n",
      "68.07692307692308 76.66666666666667 78\n",
      "61.15384615384616 70.0 79\n",
      "63.46153846153846 70.0 80\n",
      "53.26923076923077 66.66666666666666 81\n",
      "57.88461538461539 83.33333333333334 82\n",
      "54.61538461538461 76.66666666666667 83\n",
      "59.61538461538461 76.66666666666667 84\n",
      "66.15384615384615 76.66666666666667 85\n",
      "68.26923076923077 70.0 86\n",
      "63.653846153846146 80.0 87\n",
      "59.03846153846154 76.66666666666667 88\n",
      "65.0 70.0 89\n",
      "61.53846153846154 60.0 90\n",
      "63.07692307692307 73.33333333333333 91\n",
      "66.73076923076923 76.66666666666667 92\n",
      "63.07692307692307 76.66666666666667 93\n",
      "64.61538461538461 86.66666666666667 94\n",
      "60.57692307692307 76.66666666666667 95\n",
      "66.92307692307692 83.33333333333334 96\n",
      "61.346153846153854 70.0 97\n",
      "65.38461538461539 70.0 98\n",
      "56.15384615384615 83.33333333333334 99\n"
     ]
    }
   ],
   "source": [
    "for i in range(1,100):\n",
    "    mode = x_train,x_test,y_train,y_test= train_test_split(x,y,test_size=30,random_state=i)\n",
    "    lr1 = LogisticRegression()\n",
    "    lr1.fit(x_test,y_test)\n",
    "    print(lr1.score(x_train,y_train)*100,lr1.score(x_test,y_test)*100,i)\n"
   ]
  },
  {
   "cell_type": "code",
   "execution_count": null,
   "id": "fc79b5a0",
   "metadata": {},
   "outputs": [],
   "source": []
  }
 ],
 "metadata": {
  "kernelspec": {
   "display_name": "Python 3 (ipykernel)",
   "language": "python",
   "name": "python3"
  },
  "language_info": {
   "codemirror_mode": {
    "name": "ipython",
    "version": 3
   },
   "file_extension": ".py",
   "mimetype": "text/x-python",
   "name": "python",
   "nbconvert_exporter": "python",
   "pygments_lexer": "ipython3",
   "version": "3.11.5"
  }
 },
 "nbformat": 4,
 "nbformat_minor": 5
}
